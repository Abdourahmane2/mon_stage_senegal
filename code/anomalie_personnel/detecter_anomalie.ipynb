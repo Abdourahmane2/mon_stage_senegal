{
 "cells": [
  {
   "cell_type": "markdown",
   "id": "c66c988e",
   "metadata": {},
   "source": [
    "detecter les anomalies liees aux données du personnel de maniere globale \n",
    "- PER : personnel Enseignat \n",
    "- PATS : Personnel administratif"
   ]
  },
  {
   "cell_type": "code",
   "execution_count": 61,
   "id": "822e33be",
   "metadata": {},
   "outputs": [],
   "source": [
    "import pandas as pd \n",
    "import numpy as np "
   ]
  },
  {
   "cell_type": "markdown",
   "id": "00424697",
   "metadata": {},
   "source": [
    "lire les données"
   ]
  },
  {
   "cell_type": "code",
   "execution_count": 62,
   "id": "be94bd65",
   "metadata": {},
   "outputs": [],
   "source": [
    "data = pd.read_excel('C:/Users/HP/Desktop/mon_stage_senegal/data/Personnel_2000_2024/Liste_agent_des_archive 2000.xlsx') "
   ]
  },
  {
   "cell_type": "code",
   "execution_count": 63,
   "id": "00450716",
   "metadata": {},
   "outputs": [
    {
     "data": {
      "text/html": [
       "<div>\n",
       "<style scoped>\n",
       "    .dataframe tbody tr th:only-of-type {\n",
       "        vertical-align: middle;\n",
       "    }\n",
       "\n",
       "    .dataframe tbody tr th {\n",
       "        vertical-align: top;\n",
       "    }\n",
       "\n",
       "    .dataframe thead th {\n",
       "        text-align: right;\n",
       "    }\n",
       "</style>\n",
       "<table border=\"1\" class=\"dataframe\">\n",
       "  <thead>\n",
       "    <tr style=\"text-align: right;\">\n",
       "      <th></th>\n",
       "      <th>ANNEE</th>\n",
       "      <th>DATE DE PRISE EN COMPTE</th>\n",
       "      <th>NUMERO EMPLPOYE</th>\n",
       "      <th>DATE RECRUTEMENT</th>\n",
       "      <th>ANNEE RECRUTEMENT</th>\n",
       "      <th>DATE RETRAITE</th>\n",
       "      <th>ANNEE RETRAITE</th>\n",
       "      <th>DATE PRISE SERVICE</th>\n",
       "      <th>ANNEE PRISE SERVICE</th>\n",
       "      <th>DATE SORTIE</th>\n",
       "      <th>...</th>\n",
       "      <th>NBRE DE JOURS DE CONGE DU</th>\n",
       "      <th>ABSENCE DEDUCTIBLE CONGE</th>\n",
       "      <th>CLOTURE ETABLISSEMENT CONGE</th>\n",
       "      <th>CLOTURE DRH CONGE</th>\n",
       "      <th>DATE OUVERTURE CONGE DRH</th>\n",
       "      <th>CODE POSTE</th>\n",
       "      <th>INTITULE POSTE</th>\n",
       "      <th>DATE DEBUT OCCUPATION POSTE</th>\n",
       "      <th>DATE FIN OCCUPATION POSTE</th>\n",
       "      <th>NOMBRE</th>\n",
       "    </tr>\n",
       "  </thead>\n",
       "  <tbody>\n",
       "    <tr>\n",
       "      <th>0</th>\n",
       "      <td>2000</td>\n",
       "      <td>2000-12-31</td>\n",
       "      <td>784</td>\n",
       "      <td>1983-10-01</td>\n",
       "      <td>1983</td>\n",
       "      <td>2011-02-13</td>\n",
       "      <td>2011</td>\n",
       "      <td>1983-10-01</td>\n",
       "      <td>1983</td>\n",
       "      <td>NaT</td>\n",
       "      <td>...</td>\n",
       "      <td>NaN</td>\n",
       "      <td>NaN</td>\n",
       "      <td>NaN</td>\n",
       "      <td>NaN</td>\n",
       "      <td>NaN</td>\n",
       "      <td>2111220.0</td>\n",
       "      <td>COMMIS D'ADMINISTRATION UNIVERSITAIRE</td>\n",
       "      <td>1983-10-01</td>\n",
       "      <td>2011-03-01 00:00:00</td>\n",
       "      <td>1</td>\n",
       "    </tr>\n",
       "    <tr>\n",
       "      <th>1</th>\n",
       "      <td>2000</td>\n",
       "      <td>2000-12-31</td>\n",
       "      <td>927</td>\n",
       "      <td>1992-02-01</td>\n",
       "      <td>1992</td>\n",
       "      <td>2009-04-18</td>\n",
       "      <td>2009</td>\n",
       "      <td>1992-02-01</td>\n",
       "      <td>1992</td>\n",
       "      <td>NaT</td>\n",
       "      <td>...</td>\n",
       "      <td>NaN</td>\n",
       "      <td>NaN</td>\n",
       "      <td>NaN</td>\n",
       "      <td>NaN</td>\n",
       "      <td>NaN</td>\n",
       "      <td>2110989.0</td>\n",
       "      <td>SECRETAIRE STENOI-DACTYLOGRAPHE CORRESPONDANCI...</td>\n",
       "      <td>1997-05-01</td>\n",
       "      <td>2009-05-01 00:00:00</td>\n",
       "      <td>1</td>\n",
       "    </tr>\n",
       "    <tr>\n",
       "      <th>2</th>\n",
       "      <td>2000</td>\n",
       "      <td>2000-12-31</td>\n",
       "      <td>325</td>\n",
       "      <td>1995-10-02</td>\n",
       "      <td>1995</td>\n",
       "      <td>2013-03-08</td>\n",
       "      <td>2013</td>\n",
       "      <td>1995-10-02</td>\n",
       "      <td>1995</td>\n",
       "      <td>NaT</td>\n",
       "      <td>...</td>\n",
       "      <td>NaN</td>\n",
       "      <td>NaN</td>\n",
       "      <td>NaN</td>\n",
       "      <td>NaN</td>\n",
       "      <td>NaN</td>\n",
       "      <td>2111661.0</td>\n",
       "      <td>AGENT DE SERVICE</td>\n",
       "      <td>1995-10-02</td>\n",
       "      <td>2013-04-01 00:00:00</td>\n",
       "      <td>1</td>\n",
       "    </tr>\n",
       "    <tr>\n",
       "      <th>3</th>\n",
       "      <td>2000</td>\n",
       "      <td>2000-12-31</td>\n",
       "      <td>1366</td>\n",
       "      <td>1992-05-11</td>\n",
       "      <td>1992</td>\n",
       "      <td>2019-01-30</td>\n",
       "      <td>2019</td>\n",
       "      <td>1992-05-11</td>\n",
       "      <td>1992</td>\n",
       "      <td>NaT</td>\n",
       "      <td>...</td>\n",
       "      <td>NaN</td>\n",
       "      <td>NaN</td>\n",
       "      <td>NaN</td>\n",
       "      <td>NaN</td>\n",
       "      <td>NaN</td>\n",
       "      <td>2110822.0</td>\n",
       "      <td>INGENIEUR</td>\n",
       "      <td>1992-05-11</td>\n",
       "      <td>2019-02-01 00:00:00</td>\n",
       "      <td>1</td>\n",
       "    </tr>\n",
       "    <tr>\n",
       "      <th>4</th>\n",
       "      <td>2000</td>\n",
       "      <td>2000-12-31</td>\n",
       "      <td>455</td>\n",
       "      <td>1992-08-01</td>\n",
       "      <td>1992</td>\n",
       "      <td>2030-08-28</td>\n",
       "      <td>2030</td>\n",
       "      <td>1992-08-01</td>\n",
       "      <td>1992</td>\n",
       "      <td>NaT</td>\n",
       "      <td>...</td>\n",
       "      <td>NaN</td>\n",
       "      <td>NaN</td>\n",
       "      <td>NaN</td>\n",
       "      <td>NaN</td>\n",
       "      <td>NaN</td>\n",
       "      <td>2111540.0</td>\n",
       "      <td>EMPLOYÉ D'ADMINISTRATION UNIVERSITAIRE</td>\n",
       "      <td>1992-07-01</td>\n",
       "      <td>NaN</td>\n",
       "      <td>1</td>\n",
       "    </tr>\n",
       "  </tbody>\n",
       "</table>\n",
       "<p>5 rows × 91 columns</p>\n",
       "</div>"
      ],
      "text/plain": [
       "   ANNEE DATE DE PRISE EN COMPTE  NUMERO EMPLPOYE DATE RECRUTEMENT  \\\n",
       "0   2000              2000-12-31              784       1983-10-01   \n",
       "1   2000              2000-12-31              927       1992-02-01   \n",
       "2   2000              2000-12-31              325       1995-10-02   \n",
       "3   2000              2000-12-31             1366       1992-05-11   \n",
       "4   2000              2000-12-31              455       1992-08-01   \n",
       "\n",
       "   ANNEE RECRUTEMENT DATE RETRAITE  ANNEE RETRAITE DATE PRISE SERVICE  \\\n",
       "0               1983    2011-02-13            2011         1983-10-01   \n",
       "1               1992    2009-04-18            2009         1992-02-01   \n",
       "2               1995    2013-03-08            2013         1995-10-02   \n",
       "3               1992    2019-01-30            2019         1992-05-11   \n",
       "4               1992    2030-08-28            2030         1992-08-01   \n",
       "\n",
       "   ANNEE PRISE SERVICE DATE SORTIE  ... NBRE DE JOURS DE CONGE DU  \\\n",
       "0                 1983         NaT  ...                       NaN   \n",
       "1                 1992         NaT  ...                       NaN   \n",
       "2                 1995         NaT  ...                       NaN   \n",
       "3                 1992         NaT  ...                       NaN   \n",
       "4                 1992         NaT  ...                       NaN   \n",
       "\n",
       "   ABSENCE DEDUCTIBLE CONGE  CLOTURE ETABLISSEMENT CONGE CLOTURE DRH CONGE  \\\n",
       "0                       NaN                          NaN               NaN   \n",
       "1                       NaN                          NaN               NaN   \n",
       "2                       NaN                          NaN               NaN   \n",
       "3                       NaN                          NaN               NaN   \n",
       "4                       NaN                          NaN               NaN   \n",
       "\n",
       "  DATE OUVERTURE CONGE DRH CODE POSTE  \\\n",
       "0                      NaN  2111220.0   \n",
       "1                      NaN  2110989.0   \n",
       "2                      NaN  2111661.0   \n",
       "3                      NaN  2110822.0   \n",
       "4                      NaN  2111540.0   \n",
       "\n",
       "                                      INTITULE POSTE  \\\n",
       "0              COMMIS D'ADMINISTRATION UNIVERSITAIRE   \n",
       "1  SECRETAIRE STENOI-DACTYLOGRAPHE CORRESPONDANCI...   \n",
       "2                                   AGENT DE SERVICE   \n",
       "3                                          INGENIEUR   \n",
       "4             EMPLOYÉ D'ADMINISTRATION UNIVERSITAIRE   \n",
       "\n",
       "  DATE DEBUT OCCUPATION POSTE DATE FIN OCCUPATION POSTE NOMBRE  \n",
       "0                  1983-10-01       2011-03-01 00:00:00      1  \n",
       "1                  1997-05-01       2009-05-01 00:00:00      1  \n",
       "2                  1995-10-02       2013-04-01 00:00:00      1  \n",
       "3                  1992-05-11       2019-02-01 00:00:00      1  \n",
       "4                  1992-07-01                       NaN      1  \n",
       "\n",
       "[5 rows x 91 columns]"
      ]
     },
     "execution_count": 63,
     "metadata": {},
     "output_type": "execute_result"
    }
   ],
   "source": [
    "data.head()"
   ]
  },
  {
   "cell_type": "code",
   "execution_count": 64,
   "id": "51fe9339",
   "metadata": {},
   "outputs": [
    {
     "name": "stdout",
     "output_type": "stream",
     "text": [
      "<class 'pandas.core.frame.DataFrame'>\n",
      "RangeIndex: 1587 entries, 0 to 1586\n",
      "Data columns (total 91 columns):\n",
      " #   Column                         Non-Null Count  Dtype         \n",
      "---  ------                         --------------  -----         \n",
      " 0   ANNEE                          1587 non-null   int64         \n",
      " 1   DATE DE PRISE EN COMPTE        1587 non-null   datetime64[ns]\n",
      " 2   NUMERO EMPLPOYE                1587 non-null   int64         \n",
      " 3   DATE RECRUTEMENT               1587 non-null   datetime64[ns]\n",
      " 4   ANNEE RECRUTEMENT              1587 non-null   int64         \n",
      " 5   DATE RETRAITE                  1587 non-null   datetime64[ns]\n",
      " 6   ANNEE RETRAITE                 1587 non-null   int64         \n",
      " 7   DATE PRISE SERVICE             1587 non-null   datetime64[ns]\n",
      " 8   ANNEE PRISE SERVICE            1587 non-null   int64         \n",
      " 9   DATE SORTIE                    1 non-null      datetime64[ns]\n",
      " 10  DATE TITULARISATION            19 non-null     datetime64[ns]\n",
      " 11  ANNEE NAISSANCE                1587 non-null   int64         \n",
      " 12  AGE                            1587 non-null   int64         \n",
      " 13  TRANCHE D'AGE                  1587 non-null   object        \n",
      " 14  NATIONALITE                    1587 non-null   object        \n",
      " 15  REGION DE NAISSANCE            1587 non-null   object        \n",
      " 16  DEPARTEMENT DE NAISSANCE       252 non-null    object        \n",
      " 17  CATEGORIE AGENT                1587 non-null   object        \n",
      " 18  SIGLE CATEGORIE AGENT          1587 non-null   object        \n",
      " 19  TYPE AGENT                     1587 non-null   object        \n",
      " 20  SIGLE TYPE AGENT               1587 non-null   object        \n",
      " 21  CIVILITE                       1587 non-null   object        \n",
      " 22  SIGLE CIVILITE                 1587 non-null   object        \n",
      " 23  SEXE                           1587 non-null   object        \n",
      " 24  DOCTORANT                      1587 non-null   object        \n",
      " 25  GENRE                          1587 non-null   object        \n",
      " 26  DISCIPLINE                     1587 non-null   object        \n",
      " 27  LOGER                          1587 non-null   object        \n",
      " 28  NOMBRE ENFANT                  1587 non-null   int64         \n",
      " 29  NOMBRE EPOUSE                  1587 non-null   int64         \n",
      " 30  VEHICULER                      1587 non-null   object        \n",
      " 31  STATUT AGENT                   1587 non-null   object        \n",
      " 32  SIGLE STATUT                   1587 non-null   object        \n",
      " 33  DATE DEBUT STATUT              1587 non-null   object        \n",
      " 34  DATE FIN STATUT                1587 non-null   datetime64[ns]\n",
      " 35  POSITION                       1587 non-null   object        \n",
      " 36  SIGLE POSITION                 1587 non-null   object        \n",
      " 37  DATE DEBUT POSITION            1587 non-null   datetime64[ns]\n",
      " 38  DATE FIN POSITION              1587 non-null   datetime64[ns]\n",
      " 39  SOUS POSITION                  1587 non-null   object        \n",
      " 40  SIGLE SOUS POSITION            1587 non-null   object        \n",
      " 41  CODE ETABLISSEMENT             1587 non-null   object        \n",
      " 42  ETABLISSEMENT                  1587 non-null   object        \n",
      " 43  SIGLE ETABLISSEMENT            1587 non-null   object        \n",
      " 44  DATE DEBUT AFFECTATION         1587 non-null   datetime64[ns]\n",
      " 45  DATE FIN AFFECTATION           1587 non-null   datetime64[ns]\n",
      " 46  INTITULE FONCTION              1587 non-null   object        \n",
      " 47  DATE DEBUT DE FONCTION         1587 non-null   object        \n",
      " 48  DATE FIN DE FONCTION           1587 non-null   datetime64[ns]\n",
      " 49  INTITULE FONCTION ANNEXE       1139 non-null   object        \n",
      " 50  DATE DEBUT DE FONCTION ANNEXE  1138 non-null   object        \n",
      " 51  DATE FIN DE FONCTION ANNEXE    1138 non-null   datetime64[ns]\n",
      " 52  DATE DEBUT GRADE               1586 non-null   object        \n",
      " 53  DATE FIN GRADE                 1 non-null      datetime64[ns]\n",
      " 54  NOMBRE MOIS ANC                1586 non-null   float64       \n",
      " 55  DATE CREATION GRADE            1586 non-null   datetime64[ns]\n",
      " 56  DATE PRISE EN COMPTE GRADE     0 non-null      float64       \n",
      " 57  GRADE ACTIF                    1586 non-null   object        \n",
      " 58  INDICE                         1586 non-null   object        \n",
      " 59  CODE CORPS                     1586 non-null   float64       \n",
      " 60  GRADE                          1586 non-null   object        \n",
      " 61  CODE TYPE GRADE AGENT          1586 non-null   float64       \n",
      " 62  GRADE ASSOCIE                  1586 non-null   object        \n",
      " 63  NIVEAU STATUT                  923 non-null    object        \n",
      " 64  NOMBRE D'ANNEES DE SERVICE     1587 non-null   int64         \n",
      " 65  MILITAIRE                      1587 non-null   object        \n",
      " 66  HABILLER                       1587 non-null   object        \n",
      " 67  TYPE AFFECTATION               337 non-null    object        \n",
      " 68  TYPE SOUS STRUCTURE            0 non-null      float64       \n",
      " 69  SOUS STRUCTURE                 0 non-null      float64       \n",
      " 70  DATE DEBUT AFF SOUS STRUCTURE  337 non-null    datetime64[ns]\n",
      " 71  DATE FIN AFF SOUS STRUCTURE    5 non-null      datetime64[ns]\n",
      " 72  DATE DEBUT AFF STRUCTURE       337 non-null    datetime64[ns]\n",
      " 73  DATE FIN AFF STRUCTURE         0 non-null      float64       \n",
      " 74  ANNEE DE REFERENCE DIP         607 non-null    float64       \n",
      " 75  DIPLOME                        607 non-null    object        \n",
      " 76  DATE DE DEPART CONGE           0 non-null      float64       \n",
      " 77  DATE DE RETOUR CONGE           0 non-null      float64       \n",
      " 78  NOMBRE DE JOURS DE CONGE PRIS  0 non-null      float64       \n",
      " 79  RELIQUAT ANTERIEUR CONGE       0 non-null      float64       \n",
      " 80  RELIQUAT ACTUEL CONGE          0 non-null      float64       \n",
      " 81  NBRE DE JOURS DE CONGE DU      0 non-null      float64       \n",
      " 82  ABSENCE DEDUCTIBLE CONGE       0 non-null      float64       \n",
      " 83  CLOTURE ETABLISSEMENT CONGE    0 non-null      float64       \n",
      " 84  CLOTURE DRH CONGE              0 non-null      float64       \n",
      " 85  DATE OUVERTURE CONGE DRH       0 non-null      float64       \n",
      " 86  CODE POSTE                     1492 non-null   float64       \n",
      " 87  INTITULE POSTE                 1492 non-null   object        \n",
      " 88  DATE DEBUT OCCUPATION POSTE    1492 non-null   datetime64[ns]\n",
      " 89  DATE FIN OCCUPATION POSTE      1144 non-null   object        \n",
      " 90  NOMBRE                         1587 non-null   int64         \n",
      "dtypes: datetime64[ns](19), float64(19), int64(11), object(42)\n",
      "memory usage: 1.1+ MB\n"
     ]
    }
   ],
   "source": [
    "data.info()"
   ]
  },
  {
   "cell_type": "code",
   "execution_count": 65,
   "id": "eb70d2c9",
   "metadata": {},
   "outputs": [
    {
     "data": {
      "text/plain": [
       "Index(['ANNEE', 'DATE DE PRISE EN COMPTE', 'NUMERO EMPLPOYE',\n",
       "       'DATE RECRUTEMENT', 'ANNEE RECRUTEMENT', 'DATE RETRAITE',\n",
       "       'ANNEE RETRAITE', 'DATE PRISE SERVICE', 'ANNEE PRISE SERVICE',\n",
       "       'DATE SORTIE', 'DATE TITULARISATION', 'ANNEE NAISSANCE', 'AGE',\n",
       "       'TRANCHE D'AGE', 'NATIONALITE', 'REGION DE NAISSANCE',\n",
       "       'DEPARTEMENT DE NAISSANCE', 'CATEGORIE AGENT', 'SIGLE CATEGORIE AGENT',\n",
       "       'TYPE AGENT', 'SIGLE TYPE AGENT', 'CIVILITE', 'SIGLE CIVILITE', 'SEXE',\n",
       "       'DOCTORANT', 'GENRE', 'DISCIPLINE', 'LOGER', 'NOMBRE ENFANT',\n",
       "       'NOMBRE EPOUSE', 'VEHICULER', 'STATUT AGENT', 'SIGLE STATUT',\n",
       "       'DATE DEBUT STATUT', 'DATE FIN STATUT', 'POSITION', 'SIGLE POSITION',\n",
       "       'DATE DEBUT POSITION', 'DATE FIN POSITION', 'SOUS POSITION',\n",
       "       'SIGLE SOUS POSITION', 'CODE ETABLISSEMENT', 'ETABLISSEMENT',\n",
       "       'SIGLE ETABLISSEMENT', 'DATE DEBUT AFFECTATION', 'DATE FIN AFFECTATION',\n",
       "       'INTITULE FONCTION', 'DATE DEBUT DE FONCTION', 'DATE FIN DE FONCTION',\n",
       "       'INTITULE FONCTION ANNEXE', 'DATE DEBUT DE FONCTION ANNEXE',\n",
       "       'DATE FIN DE FONCTION ANNEXE', 'DATE DEBUT GRADE', 'DATE FIN GRADE',\n",
       "       'NOMBRE MOIS ANC', 'DATE CREATION GRADE', 'DATE PRISE EN COMPTE GRADE',\n",
       "       'GRADE ACTIF', 'INDICE', 'CODE CORPS', 'GRADE', 'CODE TYPE GRADE AGENT',\n",
       "       'GRADE ASSOCIE', 'NIVEAU STATUT', 'NOMBRE D'ANNEES DE SERVICE',\n",
       "       'MILITAIRE', 'HABILLER', 'TYPE AFFECTATION', 'TYPE SOUS STRUCTURE',\n",
       "       'SOUS STRUCTURE', 'DATE DEBUT AFF SOUS STRUCTURE',\n",
       "       'DATE FIN AFF SOUS STRUCTURE', 'DATE DEBUT AFF STRUCTURE',\n",
       "       'DATE FIN AFF STRUCTURE', 'ANNEE DE REFERENCE DIP', 'DIPLOME',\n",
       "       'DATE DE DEPART CONGE', 'DATE DE RETOUR CONGE',\n",
       "       'NOMBRE DE JOURS DE CONGE PRIS', 'RELIQUAT ANTERIEUR CONGE',\n",
       "       'RELIQUAT ACTUEL CONGE', 'NBRE DE JOURS DE CONGE DU',\n",
       "       'ABSENCE DEDUCTIBLE CONGE', 'CLOTURE ETABLISSEMENT CONGE',\n",
       "       'CLOTURE DRH CONGE', 'DATE OUVERTURE CONGE DRH', 'CODE POSTE',\n",
       "       'INTITULE POSTE', 'DATE DEBUT OCCUPATION POSTE',\n",
       "       'DATE FIN OCCUPATION POSTE', 'NOMBRE'],\n",
       "      dtype='object')"
      ]
     },
     "execution_count": 65,
     "metadata": {},
     "output_type": "execute_result"
    }
   ],
   "source": [
    "data.columns"
   ]
  },
  {
   "cell_type": "markdown",
   "id": "175dfd08",
   "metadata": {},
   "source": [
    "le fichier contient 91 colonnes et 1587 lignes "
   ]
  },
  {
   "cell_type": "markdown",
   "id": "9decc192",
   "metadata": {},
   "source": [
    "#### anomalie1 : des personnes recrutes apres leur prise de services c'est a dire date_recrutement > data_prise de service "
   ]
  },
  {
   "cell_type": "code",
   "execution_count": 66,
   "id": "c40112e0",
   "metadata": {},
   "outputs": [
    {
     "name": "stdout",
     "output_type": "stream",
     "text": [
      "# 5 agents ont une anomalie de date de recrutement. leur date de recrutement est supérieure à leur date de prise de service.\n"
     ]
    }
   ],
   "source": [
    "def anomalie_recrutement(df):\n",
    "    anomalie1_df = df[df['DATE RECRUTEMENT'] > (df['DATE PRISE SERVICE'])]\n",
    "    if len(anomalie1_df) == 0:\n",
    "        print(\"tous les agents ont une date de recrutement valide.\")\n",
    "    else:\n",
    "     print(f\"# {len(anomalie1_df)} agents ont une anomalie de date de recrutement. leur date de recrutement est supérieure à leur date de prise de service.\")\n",
    "     \n",
    "anomalie_recrutement(data)     \n",
    "    "
   ]
  },
  {
   "cell_type": "markdown",
   "id": "b2cfd81f",
   "metadata": {},
   "source": [
    "solution possible : supprimer ces lignes car leur faible nombre (5/1587) les rend negligeables "
   ]
  },
  {
   "cell_type": "markdown",
   "id": "4f73cab6",
   "metadata": {},
   "source": [
    "#### anomalie2 : des personnes retraites avant d'etre recrutes c'est a dire date retraite < date recrutement "
   ]
  },
  {
   "cell_type": "code",
   "execution_count": 67,
   "id": "37c03f4a",
   "metadata": {},
   "outputs": [
    {
     "name": "stdout",
     "output_type": "stream",
     "text": [
      "tous les agents ont une date de retraite valide (ceci n'est pas une anomalie !!!)\n"
     ]
    }
   ],
   "source": [
    "def anomalie_retraite(df):\n",
    "    anomalie1_df = df[df['DATE RETRAITE'] < (df['DATE RECRUTEMENT'])]\n",
    "    if len(anomalie1_df) == 0:\n",
    "        print(\"tous les agents ont une date de retraite valide (ceci n'est pas une anomalie !!!)\")\n",
    "    else:\n",
    "     print(f\"# {len(anomalie1_df)} agents ont une anomalie de date de retraite. leur date de retraite est inferieur à leur date de prise de recrutement.\")\n",
    "     \n",
    "anomalie_retraite(data) "
   ]
  },
  {
   "cell_type": "markdown",
   "id": "d8ad72cc",
   "metadata": {},
   "source": [
    "#### anomalie3 : fin de poste avant le debut"
   ]
  },
  {
   "cell_type": "code",
   "execution_count": 68,
   "id": "27ad4fde",
   "metadata": {},
   "outputs": [
    {
     "name": "stdout",
     "output_type": "stream",
     "text": [
      "Tous les agents ont une date de fin de fonction valide (ceci n'est pas une anomalie !!!)\n"
     ]
    }
   ],
   "source": [
    "def anomalie_fin_poste(df):\n",
    "    #convert date columns to datetime\n",
    "    df['DATE FIN DE FONCTION'] = pd.to_datetime(df['DATE FIN DE FONCTION'], errors='coerce')\n",
    "    df['DATE DEBUT DE FONCTION'] = pd.to_datetime(df['DATE DEBUT DE FONCTION'], errors='coerce')\n",
    "    # detect anomalies\n",
    "    anomalie_df = df[df['DATE FIN DE FONCTION'] < df['DATE DEBUT DE FONCTION']]\n",
    "    if len(anomalie_df) == 0:\n",
    "        print(\"Tous les agents ont une date de fin de fonction valide (ceci n'est pas une anomalie !!!)\")\n",
    "    else:\n",
    "        print(f\"# {len(anomalie_df)} agents ont une anomalie de date de fin de fonction. Leur date de fin de fonction est inférieure à leur date de début de fonction.\")\n",
    "        \n",
    "anomalie_fin_poste(data)        "
   ]
  },
  {
   "cell_type": "markdown",
   "id": "aa1af3c9",
   "metadata": {},
   "source": [
    "#### anomalie4 : les valeurs manquantes dans chaque colonne"
   ]
  },
  {
   "cell_type": "code",
   "execution_count": 69,
   "id": "138921cf",
   "metadata": {},
   "outputs": [
    {
     "name": "stdout",
     "output_type": "stream",
     "text": [
      "# 41 colonnes contiennent des valeurs manquantes.\n",
      "DATE SORTIE                      1586\n",
      "DATE TITULARISATION              1568\n",
      "DEPARTEMENT DE NAISSANCE         1335\n",
      "INTITULE FONCTION ANNEXE          448\n",
      "DATE DEBUT DE FONCTION ANNEXE     449\n",
      "DATE FIN DE FONCTION ANNEXE       449\n",
      "DATE DEBUT GRADE                    1\n",
      "DATE FIN GRADE                   1586\n",
      "NOMBRE MOIS ANC                     1\n",
      "DATE CREATION GRADE                 1\n",
      "DATE PRISE EN COMPTE GRADE       1587\n",
      "GRADE ACTIF                         1\n",
      "INDICE                              1\n",
      "CODE CORPS                          1\n",
      "GRADE                               1\n",
      "CODE TYPE GRADE AGENT               1\n",
      "GRADE ASSOCIE                       1\n",
      "NIVEAU STATUT                     664\n",
      "TYPE AFFECTATION                 1250\n",
      "TYPE SOUS STRUCTURE              1587\n",
      "SOUS STRUCTURE                   1587\n",
      "DATE DEBUT AFF SOUS STRUCTURE    1250\n",
      "DATE FIN AFF SOUS STRUCTURE      1582\n",
      "DATE DEBUT AFF STRUCTURE         1250\n",
      "DATE FIN AFF STRUCTURE           1587\n",
      "ANNEE DE REFERENCE DIP            980\n",
      "DIPLOME                           980\n",
      "DATE DE DEPART CONGE             1587\n",
      "DATE DE RETOUR CONGE             1587\n",
      "NOMBRE DE JOURS DE CONGE PRIS    1587\n",
      "RELIQUAT ANTERIEUR CONGE         1587\n",
      "RELIQUAT ACTUEL CONGE            1587\n",
      "NBRE DE JOURS DE CONGE DU        1587\n",
      "ABSENCE DEDUCTIBLE CONGE         1587\n",
      "CLOTURE ETABLISSEMENT CONGE      1587\n",
      "CLOTURE DRH CONGE                1587\n",
      "DATE OUVERTURE CONGE DRH         1587\n",
      "CODE POSTE                         95\n",
      "INTITULE POSTE                     95\n",
      "DATE DEBUT OCCUPATION POSTE        95\n",
      "DATE FIN OCCUPATION POSTE         443\n",
      "dtype: int64\n"
     ]
    }
   ],
   "source": [
    "def valeur_manquante(df):\n",
    "    anomalie_valeur = df.isnull().sum()\n",
    "    anomalie_valeur = anomalie_valeur[anomalie_valeur > 0]\n",
    "    if len(anomalie_valeur) == 0:\n",
    "        print(\"Aucune valeur manquante dans le fichier.\")\n",
    "    else:\n",
    "        print(f\"# {len(anomalie_valeur)} colonnes contiennent des valeurs manquantes.\")\n",
    "        print(anomalie_valeur)\n",
    "        \n",
    "valeur_manquante(data)        "
   ]
  },
  {
   "cell_type": "markdown",
   "id": "54d74e38",
   "metadata": {},
   "source": [
    "il y'a beaucoup de colonne avec des valeurs manquantes sur ce jeux de données"
   ]
  },
  {
   "cell_type": "markdown",
   "id": "c3969656",
   "metadata": {},
   "source": [
    "#### anomalie5 : detecter les doublons"
   ]
  },
  {
   "cell_type": "code",
   "execution_count": 70,
   "id": "8849d53f",
   "metadata": {},
   "outputs": [
    {
     "name": "stdout",
     "output_type": "stream",
     "text": [
      "Aucun doublon dans le fichier.\n",
      "# 1 numéros d'employé en double trouvés dans le fichier.\n"
     ]
    }
   ],
   "source": [
    "#=====detecter les doublons dans le fichier========\n",
    "def anomalie_doublons(df) : \n",
    "    doublons = df.duplicated().sum()\n",
    "    numero_employe = df['NUMERO EMPLPOYE'].duplicated().sum()\n",
    "    if doublons == 0:\n",
    "        print(\"Aucun doublon dans le fichier.\")\n",
    "    else:\n",
    "        print(f\"# {doublons} doublons trouvés dans le fichier.\")\n",
    "        \n",
    "    if numero_employe == 0: \n",
    "        print(\"Aucun numéro d'employé en double dans le fichier.\")\n",
    "    else:\n",
    "        print(f\"# {numero_employe} numéros d'employé en double trouvés dans le fichier.\")    \n",
    "\n",
    "anomalie_doublons(data) "
   ]
  },
  {
   "cell_type": "markdown",
   "id": "7cdbbd4f",
   "metadata": {},
   "source": [
    "#### anomalie6 : les valeurs trop extemem comme les ages <18 ou > 65 les nb_enfants >10 ou nb_femmes > 4  "
   ]
  },
  {
   "cell_type": "code",
   "execution_count": 71,
   "id": "738e9fef",
   "metadata": {},
   "outputs": [
    {
     "name": "stdout",
     "output_type": "stream",
     "text": [
      "# 2 agents ont un age anomale (soit inférieur à 18 ans soit supérieur à 68 ans).\n",
      "# 17 agents ont un nombre d'enfants anomale (soit inférieur à 0 soit supérieur à 10).\n",
      "# 2 agents ont un nombre d'épouses anomale (soit inférieur à 0 soit supérieur à 4).\n"
     ]
    }
   ],
   "source": [
    "def anomalie6(data) :\n",
    "    age = data['AGE']\n",
    "    nb_enfants = data['NOMBRE ENFANT']\n",
    "    femmes = data['NOMBRE EPOUSE']\n",
    "    #age < 18 or age > 68\n",
    "    anomalie_age = data[(age < 18) | (age > 68)]\n",
    "    anomalie_nb_enfants = data[(nb_enfants < 0) | (nb_enfants > 10)]\n",
    "    anomalie_nb_femmes = data[(femmes < 0) | (femmes > 4)]\n",
    "    if len(anomalie_age) == 0:\n",
    "        print(\"Aucun personnel n'a un age anormal.\")\n",
    "    else:\n",
    "        print(f\"# {len(anomalie_age)} agents ont un age anomale (soit inférieur à 18 ans soit supérieur à 68 ans).\")\n",
    "    if len(anomalie_nb_enfants) == 0:\n",
    "        print(\"Aucun personnel n'a un nombre d'enfants anormal.\")\n",
    "    else:\n",
    "        print(f\"# {len(anomalie_nb_enfants)} agents ont un nombre d'enfants anomale (soit inférieur à 0 soit supérieur à 10).\")  \n",
    "    if len(anomalie_nb_femmes) == 0:\n",
    "        print(\"Aucun personnel n'a un nombre d'épouses anormal.\")\n",
    "    else:\n",
    "        print(f\"# {len(anomalie_nb_femmes)} agents ont un nombre d'épouses anomale (soit inférieur à 0 soit supérieur à 4).\")          \n",
    "\n",
    "\n",
    "anomalie6(data) "
   ]
  },
  {
   "cell_type": "markdown",
   "id": "84844bfc",
   "metadata": {},
   "source": [
    "#### fonction pour detecter tous les anomalies a partir d'un fichier "
   ]
  },
  {
   "cell_type": "code",
   "execution_count": 72,
   "id": "08265a42",
   "metadata": {},
   "outputs": [],
   "source": [
    "import os\n",
    "import os\n",
    "import io\n",
    "import contextlib\n",
    "import pandas as pd\n",
    "\n",
    "def detecter_anomalies_personnel(fichier_entree ):\n",
    "    # Lire le fichier (Excel ou CSV automatiquement détecté)\n",
    "    extension = os.path.splitext(fichier_entree)[1].lower()\n",
    "    if extension == '.csv':\n",
    "        data = pd.read_csv(fichier_entree , encoding='latin1', sep=';')\n",
    "    elif extension in ['.xls', '.xlsx']:\n",
    "        data = pd.read_excel(fichier_entree)\n",
    "    else:\n",
    "        raise ValueError(\"Format de fichier non supporté. Utilisez .csv, .xls ou .xlsx\")\n",
    "\n",
    "    # Construire le nom du fichier de sortie\n",
    "    nom_base = os.path.splitext(os.path.basename(fichier_entree))[0]\n",
    "    nom_sortie = f\"anomalies_{nom_base}.txt\"\n",
    "\n",
    "    # Liste des fonctions d'anomalies\n",
    "    fonctions_anomalies = [anomalie_recrutement, anomalie_retraite, anomalie_fin_poste , anomalie_doublons , anomalie6]\n",
    "\n",
    "    # Rediriger la sortie print vers un fichier texte\n",
    "    with open(nom_sortie, 'w', encoding='utf-8') as f:\n",
    "        for i, fonction in enumerate(fonctions_anomalies, 1):\n",
    "            f.write(f\"===== Anomalie {i} =====\\n\")\n",
    "            buffer = io.StringIO()\n",
    "            with contextlib.redirect_stdout(buffer):\n",
    "                fonction(data)\n",
    "            f.write(buffer.getvalue())\n",
    "            f.write(\"\\n\\n\")\n",
    "\n",
    "    \n",
    "\n",
    "    \n"
   ]
  }
 ],
 "metadata": {
  "kernelspec": {
   "display_name": "Python 3",
   "language": "python",
   "name": "python3"
  },
  "language_info": {
   "codemirror_mode": {
    "name": "ipython",
    "version": 3
   },
   "file_extension": ".py",
   "mimetype": "text/x-python",
   "name": "python",
   "nbconvert_exporter": "python",
   "pygments_lexer": "ipython3",
   "version": "3.13.2"
  }
 },
 "nbformat": 4,
 "nbformat_minor": 5
}
