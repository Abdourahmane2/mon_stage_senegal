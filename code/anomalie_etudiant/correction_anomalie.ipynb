{
 "cells": [
  {
   "cell_type": "markdown",
   "id": "d4f8c904",
   "metadata": {},
   "source": [
    "# Correction et Nettoyage des Anomalies dans les Données Étudiantes UCAD (2001-2024)\n",
    "\n",
    "---\n",
    "\n",
    "\n",
    "Ce notebook automatise la **correction des anomalies** dans les fichiers étudiants UCAD :\n",
    "\n",
    "- Vérification de l’homogénéité des colonnes sur toutes les années\n",
    "- Suppression des colonnes inutiles (plus de 80 % de valeurs manquantes)\n",
    "- Harmonisation des noms de colonnes et des systèmes LMD/Classique\n",
    "- Nettoyage général des valeurs manquantes\n",
    "\n"
   ]
  },
  {
   "cell_type": "code",
   "execution_count": 12,
   "id": "b35e2089",
   "metadata": {},
   "outputs": [],
   "source": [
    "import pandas as pd "
   ]
  },
  {
   "cell_type": "markdown",
   "id": "7cb71f4c",
   "metadata": {},
   "source": [
    "Verifier si tous les fichiers ont les meme nons de colonnes "
   ]
  },
  {
   "cell_type": "code",
   "execution_count": 13,
   "id": "eb9ccabe",
   "metadata": {},
   "outputs": [
    {
     "name": "stdout",
     "output_type": "stream",
     "text": [
      "✅Les colonnes des fichiers sont identiques  celles du fichier de référence(fichier 2001-2002).\n"
     ]
    }
   ],
   "source": [
    "#collone de reference\n",
    "import pandas as pd\n",
    "import glob  as glob\n",
    "import os\n",
    "data= pd.read_csv('C:/Users/HP/Desktop/mon_stage_senegal/data/Etudiants_2001_2024/Liste_globale_des_etudiants_tous_les_champs20232024.csv' , encoding='latin1' ,sep=';')\n",
    "# Chemin vers le dossier contenant les fichiers\n",
    "dossier = 'C:/Users/HP/Desktop/mon_stage_senegal/data/Etudiants_2001_2024'\n",
    "\n",
    "colonnes_reference = set(data.columns)  # Colonnes de référence\n",
    "fichiers_csv = glob.glob(os.path.join(dossier, '*.csv'))\n",
    "#Vérifier les colonnes de chaque fichier\n",
    "for fichier in fichiers_csv:\n",
    "    data = pd.read_csv(fichier, encoding='latin1', sep=';')\n",
    "    colonnes_actuelles = set(data.columns)\n",
    "    if colonnes_actuelles != colonnes_reference:\n",
    "        print(f\"Les colonnes de {os.path.basename(fichier)} sont différentes de celles du fichier de référence(fichier 2001-2002).\")\n",
    "        print(f\"Colonnes manquantes dans {os.path.basename(fichier)} :\", colonnes_reference - colonnes_actuelles)\n",
    "        print(f\"Colonnes supplémentaires dans {os.path.basename(fichier)} :\", colonnes_actuelles - colonnes_reference)\n",
    "        \n",
    "print(f\"✅Les colonnes des fichiers sont identiques  celles du fichier de référence(fichier 2001-2002).\")"
   ]
  },
  {
   "cell_type": "code",
   "execution_count": 14,
   "id": "cfc4b6e9",
   "metadata": {},
   "outputs": [
    {
     "name": "stdout",
     "output_type": "stream",
     "text": [
      "Les fichiers ont été concaténés avec succès.\n"
     ]
    }
   ],
   "source": [
    "#================concater les fichiers pour creer un dataframe complet \n",
    "if fichiers_csv:  # Vérifier qu'il y a des fichiers CSV dans le dossier\n",
    "    df_total = pd.concat(\n",
    "        (pd.read_csv(fichier, encoding='latin1', sep=';', low_memory=False)\n",
    "         .assign(source=os.path.basename(fichier)) for fichier in fichiers_csv),\n",
    "        ignore_index=True\n",
    "    )\n",
    "    print(\"Les fichiers ont été concaténés avec succès.\")\n",
    "else:\n",
    "    print(\"Aucun fichier CSV trouvé dans le dossier spécifié.\")\n",
    "    \n",
    "\n"
   ]
  },
  {
   "cell_type": "code",
   "execution_count": 15,
   "id": "71bcadb4",
   "metadata": {},
   "outputs": [
    {
     "data": {
      "text/plain": [
       "Index(['NUMERO', 'NUMERO_TABLE', 'INE', 'NUMERO_IDENTITIFICATION', 'NOM',\n",
       "       'PRENOM', 'DATE_DE_NAISSANCE', 'LIEU_DE_NAISSANCE',\n",
       "       'MAIL_INSTITUTIONNEL', 'SEXE', 'MENTION_BACC', 'ANNEE_BACC',\n",
       "       'PAYS_DE_NAISSANCE', 'NATIONALITE', 'SERIE_BACC', 'REGION_DE_NAISSANCE',\n",
       "       'ETABLISSMENT_CODE', 'ETABLISSEMENT', 'NIVEAU_SECTION',\n",
       "       'SIGLE_NIVEAU_SECTION', 'COHORTE', 'ETAT_INSCRIPTION',\n",
       "       'ANNEE_INSCRIPTION', 'ANNEE_UNIVERSITAIRE', 'TYPE_FORMATION',\n",
       "       'CODE_NIVEAU', 'NIVEAU', 'DATE_INSCRIPTION', 'NIVEAU LMD',\n",
       "       'NIVEAU LMD ET NON LMD', 'SYSTEME', 'DEPARTEMENT FORMATION', 'source'],\n",
       "      dtype='object')"
      ]
     },
     "execution_count": 15,
     "metadata": {},
     "output_type": "execute_result"
    }
   ],
   "source": [
    "df_total.columns"
   ]
  },
  {
   "cell_type": "markdown",
   "id": "75d57206",
   "metadata": {},
   "source": [
    "- harmoniser le nom des colonnes "
   ]
  },
  {
   "cell_type": "code",
   "execution_count": 16,
   "id": "647d82c9",
   "metadata": {},
   "outputs": [],
   "source": [
    "def hamoniser(data):\n",
    "    #minuscule\n",
    "    data.columns = data.columns.str.lower().str.replace(' ', '_')\n",
    "    return data\n",
    "    \n",
    "df_total = hamoniser(df_total)   \n",
    "    "
   ]
  },
  {
   "cell_type": "code",
   "execution_count": 17,
   "id": "88ba743e",
   "metadata": {},
   "outputs": [
    {
     "data": {
      "text/plain": [
       "Index(['numero', 'numero_table', 'ine', 'numero_identitification', 'nom',\n",
       "       'prenom', 'date_de_naissance', 'lieu_de_naissance',\n",
       "       'mail_institutionnel', 'sexe', 'mention_bacc', 'annee_bacc',\n",
       "       'pays_de_naissance', 'nationalite', 'serie_bacc', 'region_de_naissance',\n",
       "       'etablissment_code', 'etablissement', 'niveau_section',\n",
       "       'sigle_niveau_section', 'cohorte', 'etat_inscription',\n",
       "       'annee_inscription', 'annee_universitaire', 'type_formation',\n",
       "       'code_niveau', 'niveau', 'date_inscription', 'niveau_lmd',\n",
       "       'niveau_lmd_et_non_lmd', 'systeme', 'departement_formation', 'source'],\n",
       "      dtype='object')"
      ]
     },
     "execution_count": 17,
     "metadata": {},
     "output_type": "execute_result"
    }
   ],
   "source": [
    "df_total.columns"
   ]
  },
  {
   "cell_type": "markdown",
   "id": "bb847cdf",
   "metadata": {},
   "source": [
    "- corriger l'anomalie lier au systeme LMD\n"
   ]
  },
  {
   "cell_type": "code",
   "execution_count": null,
   "id": "7531f8e9",
   "metadata": {},
   "outputs": [
    {
     "name": "stderr",
     "output_type": "stream",
     "text": [
      "c:\\Users\\HP\\AppData\\Local\\Programs\\Python\\Python313\\Lib\\site-packages\\openpyxl\\styles\\stylesheet.py:237: UserWarning: Workbook contains no default style, apply openpyxl's default\n",
      "  warn(\"Workbook contains no default style, apply openpyxl's default\")\n"
     ]
    }
   ],
   "source": [
    "# importer le dataframe avec  les fomrations concernes \n",
    "data1 = pd.read_excel(\"C:/Users/HP/Downloads/NIVEAU FORMATION (1).xlsx\")\n",
    "def corriger_anomalie_lmd(df, df_niveaux):\n",
    "    for _, row in df_niveaux.iterrows():\n",
    "        niveau_formation = str(row['NIVEAU FORMATION'])\n",
    "        niveau_code = str(row['NIVEAU'])\n",
    "        mask = df['sigle_niveau_section'] == niveau_formation\n",
    "        df.loc[mask, 'systeme'] = 'Classique'\n",
    "        df.loc[mask, 'niveau_lmd_et_non_lmd'] = f\"A{niveau_code}\"\n",
    "    return df\n",
    "\n",
    "df_total = corriger_anomalie_lmd(df_total, data1)\n",
    "\n",
    "\n"
   ]
  },
  {
   "cell_type": "code",
   "execution_count": 21,
   "id": "cfa3d988",
   "metadata": {},
   "outputs": [
    {
     "name": "stdout",
     "output_type": "stream",
     "text": [
      "Il y a des enregistrements avec le système LMD avant 2011 :\n",
      "voici les formations concernées :\n",
      "['Quatrième Année du Deuxième Cycle des Etudes Médicales'\n",
      " \"Maîtrise en Science de l'Information et de la Communication\"\n",
      " \"Deuxième Année Certif d'Aptit aux Fonct d'Insp de l'Education Populaire, de la Jeunesse et Sports\"\n",
      " 'Première Année du Deuxième Cycle des Etudes Pharmaceutiques'\n",
      " \"Maîtrise Sciences et Techniques de l'Activité Physique et du Sport\"\n",
      " \"Thèse d'Etat Biologie végétale\"\n",
      " 'D.E.S.S. Certificat en Administration des Entreprises (I.F.A.C.E.)'\n",
      " \"Thèse d'Etat Chimie et Biochimie des Produits Naturels\"\n",
      " \"Première Année Certif d'Aptit aux Fonct d'Inspec de l'Education Populaire, de la Jeunesse et Sports\"\n",
      " 'Licence 3 Chimie' \"Thèse d'Etat Biologie Animale\"\n",
      " 'Thèse de Troisième Cycle Génie Informatique'\n",
      " 'Licence 1 Mathématiques spécialité Enseignement (soir)'\n",
      " 'Thèse de Troisième Cycle  Génie Mécanique'\n",
      " 'Licence Professionnelle Science de Gestion'\n",
      " 'Licence Informatique Professionnelle'\n",
      " 'Master  Energie Electrique et son Environnement'\n",
      " 'Master Finances et Banques (CREFDES)' 'Master en Environnement'\n",
      " \"Master 1 Professionnel d'Informatique\"\n",
      " 'Master Professionnel de Méthodes Statistiques et Econométriques (CREFDES)'\n",
      " 'Master Econométrie' 'Master 2 Informatique'\n",
      " \"Master 2 Recherche - Sciences de l'Ingénieur\"\n",
      " 'Master de Logistiques et Transport (Département de technique Quantitative)'\n",
      " 'Master en Commerce International (Département de Gestion)'\n",
      " \"Master 1 Transmission de Données et Sécurité de l'Information: Cryptographie et Informatique\"\n",
      " 'Master 1 Finances Comptabilités'\n",
      " 'Master 2 Politique Economique et Analyse Economique de Projets'\n",
      " 'Master Gestion Ressources Humaines (ISG)' 'Master Marketing (ISG)'\n",
      " 'Master 1 Science de Gestion' 'Master Droit Public'\n",
      " \"Master 2 Transmission de Données et Sécurité de l'Information: Cryptographie et Informatique\"\n",
      " 'Master 2 en Science de Gestion'\n",
      " 'L.P.S.I.D.3 FADIS option Documentation(FAD)'\n",
      " 'Master 1 Administration des Collectivités Locales'\n",
      " 'Master Droit de la Santé' 'Master Droit Privé' 'Master Intégration'\n",
      " \"Troisième Année de Licence Professionnelle en Sciences de L'Information Documentaire option Document\"\n",
      " \"Master Droit de l' Environnement\"\n",
      " \"Master 1 Recherche Transmission de Données et Sécurité de l'Information: Mathématiques-Cryptographie et Sécurité\"\n",
      " 'Master Sciences Politiques'\n",
      " \"Troisième Année Doctorat en Science de l'Information et de la Communication\"\n",
      " \"Troisième Année de Licence Professionnelle en Sciences de L'Information Documentaire option Archives\"\n",
      " 'L.P.S.I.D.3 FADIS option Bibliothèque(FAD)'\n",
      " \"Troisième Année de Licence Professionnelle en Sciences de L'Information Documentaire à Distance\"\n",
      " \"Première Année de Licence Professionnelle en Sciences de L'Information Documentaire à Distance\"\n",
      " 'L.P.S.I.D 3 FADIS option Archives(FAD)'\n",
      " \"Troisième Année de Licence Professionnelle en Sciences de L'Information Documentaire option Biblioth\"\n",
      " \"Master Droit à l'Intégration et de l'O.M.C\"\n",
      " 'Master Profesionnel Management, Commerce International'\n",
      " 'Master Professionnel Audit'\n",
      " 'Master Professionnel Econométrie Bancaire et Finance Quantitative'\n",
      " 'Master 2 Marketing'\n",
      " \"Deuxième Année de Licence Professionnelle en Sciences de L'Information Documentaire\"\n",
      " 'Master Professionnel Logistique et Transport'\n",
      " 'Master Gourvernance (Science Politique)'\n",
      " \"Master 2 Technologie de l'Information\"\n",
      " 'Master Privé Sciences Criminelles' 'Master Professionnel Finance'\n",
      " 'Master Professionnel Politiques et Négociations Commerciales Internationales'\n",
      " \"Première Année de Licence Professionnelle en Sciences de L'Information Documentaire\"\n",
      " 'Master Professionnel Méthode Statistique et Econométrie'\n",
      " 'Master Histoire des Institutions'\n",
      " \"Master Professionnel d'Economie Rurale\"\n",
      " 'Master 2 Ingenieurie documentaire' 'Master droit de la Régulation'\n",
      " 'Master 2 Recherche Monnaie, Finance, Banque'\n",
      " 'Master 2 Profesionnel  Droit Economique, Notarial et Processuel'\n",
      " 'Master 2 Gestion des Ressources Humaines'\n",
      " \"Master 1 Sciences de l'Information Documentaire\"\n",
      " \"Master 2 Juriste d'entreprises et d'affaires\"\n",
      " \"Master 2 Recherche Transmission de Données et Sécurité de l'Information: Mathématiques-Cryptographie et Sécurité\"\n",
      " 'Master Professionnel en Econom. Banc. Et Fin Appl.'\n",
      " 'Master Professionnel Santé' 'Master 1 Ressources Humaines'\n",
      " \"Troisième Année de Licence Professionnelle en Sciences de L'Information Documentaire\"\n",
      " 'Master 2 Valorisation du patrimoine'\n",
      " \"Master 1 d'Ultrasonologie Médicale\"\n",
      " \"Master de Bio Toxicologie appliquée à l'industrie, l'environnement et à la Santé\"\n",
      " \"Master Professionnel d'Econométrie Bancaire et Finance Quantitative (Privé)\"\n",
      " 'Master en Gestion Macroéconomique (CREFDES)'\n",
      " 'Master 1 Physiques et Applications'\n",
      " 'Master Politique Sectorielle et Gestion de Systèmes Educatifs'\n",
      " 'Master Professionnel Econométrie Bancaire et Finance Quantative (Formation Continue)'\n",
      " 'Master 1 en Population, Développement et Santé de la Reproduction'\n",
      " 'Master 2 Finance' 'Master 2 Ingenieurie Documentaire / FADIS(FAD)'\n",
      " 'Master Professionnel Logistique et Transport (Formation Continue)'\n",
      " \"Master 2 Technologie de l'Information / FADIS(FAD)\"\n",
      " 'Master 1 en Politiques Publiques: Mgmt des Institutions et politiques publiques en Education(MIPE-LAPP)'\n",
      " 'Master 1 en Développement Régional et Local: Economie de la Micro-Finance (EMF-LAPP)'\n",
      " \"Master 2 d'Ultrasonologie Médicale\"\n",
      " 'Master 2 en Politiques Publiques: Mgmt des Institutions et Politiques Publiques en Education (MIPE-LAPP)'\n",
      " 'Master en Education et Formation' 'Licence 1 Sciences Juridiques'\n",
      " 'Master 1 en Microbiologie Fondamentale Appliquée'\n",
      " 'Master 2 Mécanique des Fluides et Applications'\n",
      " \"Thèse de Doctorat Unique des Sces de la Vie, de la Santé et de l'Environnement\"\n",
      " \"Master 2 d'Hydrogéologie\"\n",
      " 'Licence Professionnelle de Langues et Tourisme (I.L.E.A.)'\n",
      " 'Master 2 de Physique et Applications spécialité Energie Solaire, Matériaux et Système (SOLMATS)'\n",
      " 'Master 2 Biologie Végétale spécialité Agroforesterie, Ecologie et Adaptation'\n",
      " 'L1: Licence Sciences Economiques et Gestion'\n",
      " 'Master 2 Biologie Végétale spécialité Phytopharmacie et Protection des Végétaux'\n",
      " 'Master 2 Géosciences des Zones Profondes spécialité Pétrologie, Métallogénie et Tectonique'\n",
      " 'Master 1 en Physiologie Humaine'\n",
      " 'Master 2 en Anatomie Morphologique et Clinique'\n",
      " 'Master 2 Physique et Applications, spécialité Physique de la Matière Condensée'\n",
      " 'Master 1 en Biologie et Contrôle des Parasites'\n",
      " 'Master 2 Etudes et Pratiques des Relations Internationales'\n",
      " 'Master 2 \"Interrelations Population, Développement et Santé\"'\n",
      " 'Licence Professionnelle (CREFDES) option Banque - Assurance'\n",
      " 'Master 2 Management des Etablissements de la Santé (Département de Gestion)'\n",
      " 'Master 1 Chimie Biologie Aspects Analytiques'\n",
      " 'Licence 1 Professionnelle DST 1 option Marketing'\n",
      " \"Master 2 Gouvernance et Administration des Etablissements d'Enseignement Supérieur et de Recherche\"\n",
      " 'Master 2 en Analyses physicochimiques et Management de la qualité des produits de santé et aliments'\n",
      " 'Master Professionnel en Environnement'\n",
      " 'Master Professionnel Méthodes Statistiques et Econométriques'\n",
      " 'Licence du Diplôme Universitaire Professionnel option Carrières Judiciaires'\n",
      " 'Master 2 en Microbiologie Fondamentale Appliquée'\n",
      " 'Master 1 en Pharmacie Hospitalière et des Collectivités'\n",
      " 'Master Professionnel Collectivités Locales'\n",
      " 'Master 2 Biologie Animale spécialité Ecologie et Gestion des Ecosystèmes'\n",
      " \"Master Professionnel Santé - Environnement option Droit de l'Environnement\"\n",
      " 'Master 2 en Hématologie'\n",
      " 'Master 2 Biologie Animale spécialité Entomologie'\n",
      " 'Master 2 Professionnel de Gestion Macroéconomique et Administrative (CREFDES)'\n",
      " 'Master 2 \"Population, Santé et Développement Durable\"'\n",
      " 'Licence du Diplôme Universitaire Professionnel option Droit Immobilier'\n",
      " 'Master 2 Immuno(FAD)' 'Master 2 en Biophysique'\n",
      " 'Master 2 Biologie Animale spécialité Génétique des Populations'\n",
      " 'Master 2 de Géosciences'\n",
      " 'Licence 1 Professionnelle DTS 1 option Finance - Comptabilité (IFACE)'\n",
      " 'Master Professionnel Santé - Environnement option Droit de la Santé'\n",
      " 'Master 2 Biologie Végétale spécialité Biotechnologie Végétale et Microbienne'\n",
      " 'Licence Professionnelle Création Multimedia'\n",
      " 'Master 2 Taxonomie, Biodiversité, Ethnobotanique et Conservation des Ressources Naturelles'\n",
      " 'Master 2 en Biochimie et Génie Génétique'\n",
      " 'Licence 3 Professionnelle Cryptographie - Informatique'\n",
      " 'Licence Professionnelle Agroressources Végétales et Entreprenariat'\n",
      " 'Master 2 Géosciences spécialité Environnements Sédimentaires'\n",
      " 'Master 2 Droit du Sport'\n",
      " 'Master 1 Biologie Animale Nutrition et Alimentation Humaine'\n",
      " 'Master 2 Biologie Animale spécialité Parasitologie'\n",
      " 'Licence 3 en Herboristerie Médecinale'\n",
      " 'Master Professionnel en Commerce et Management des Affaires Internationales (CMAI)'\n",
      " 'Master 1 en Biophysique'\n",
      " 'Master 1 en Anatomie Morphologique et Clinique'\n",
      " 'Master 1 en Biochimie et Génie Génétique'\n",
      " 'Master en Management du Sport'\n",
      " 'Master Professionnel de Politiques et Négociations Commerciales Internationales (Formation Continue)'\n",
      " 'Master 2 en Physiologie Humaine'\n",
      " 'Master 2 en Développement Régional et Local : Economie de la Micro-Finance (EMF-LAPP)'\n",
      " 'Master 2 en Biologie et Contrôle des Parasites'\n",
      " 'Master 2 Géométrie Différentielle'\n",
      " 'Master 1 en Analyses physicochimiques et Management de la qualité des produits de santé et aliments'\n",
      " 'Master 1 en Immuno-Infection' 'Master Economie Rurale'\n",
      " 'Licence 2 Sciences Juridiques'\n",
      " 'Master Méthodes Statistiques et Econométriques'\n",
      " 'Master Monnaie, Finance, Banque'\n",
      " 'Master Commerce et Management des Affaires Internationales (CMAI)'\n",
      " 'Master Econométrie Bancaire et Finance Quantitative'\n",
      " 'Master 2 Gestion Durable des Agroécosystèmes Horticoles bis'\n",
      " 'Master 1 Réseaux et Télécommunications'\n",
      " 'Master Politiques et Négociations Commerciales Internationales (PNCI)'\n",
      " \"Master 1 en Sciences de l'Inf. Doc. / FADIS(FAD)\" 'Master Audit'\n",
      " 'L2: Licence Sciences Economiques et Gestion'\n",
      " 'Master 1 Banques et Institutions Financières'\n",
      " 'Licence 1 Physique Chimie Science de la Matière'\n",
      " 'Licence 1  en Biologie, Chimie  et Géosciences'\n",
      " 'Licence 1 Mathématique, Physique Informatique'\n",
      " 'Licence 2 Professionnelle (CREFDES) option Banque-Assurance'\n",
      " 'Master 1  Education et Formation' 'Master Finance'\n",
      " 'Master 1 Medias - Communication'\n",
      " 'Licence 1 en Education et Motricité (L.E.M)'\n",
      " 'Master 2 Géométrie et Applications'\n",
      " 'Licence 1 en Entrainement Sportif et Performance (L.E.P)'\n",
      " 'Master 1 Management des Etablissements de la Santé (Département de Gestion)'\n",
      " 'Master 2  Education et Formation' 'Master Logistique et Transport'\n",
      " 'Master 2 Géosciences spécialité Hydrogéologie'\n",
      " 'Master 1 Algèbre, Géométrie et Applications'\n",
      " \"Master 1 Sciences de l'Environnement\"\n",
      " 'Licence 2 Professionnelle option Finance - Comptabilité'\n",
      " 'Licence 1 professionnelle option Banques et Institutions Financières'\n",
      " 'Master 2 Chimie Biologie Aspects Analytiques'\n",
      " 'Master 1 Gestion des Ressources Naturelles et Développement Durable'\n",
      " 'Master 1 Management de la Santé'\n",
      " 'Licence du Diplôme Universitaire Professionnel option Gestion des Collectivités Locales'\n",
      " 'Master 1 Biologie Végétale spécialité Biotechnologie Végétale et Microbienne'\n",
      " 'Licence 3 BioInformatique - BioMathématiques'\n",
      " \"Master 1 Gestion de Projets et Création d'Entreprises\"\n",
      " 'Master 2 Mathématiques Appliquées option Analyse Numérique'\n",
      " 'Master 1 Biologie Animale spécialité Entomologie'\n",
      " 'Licence 2 Professionnelle option Marketing et Communication'\n",
      " 'Master 1 Recherche Algèbre, Géométrie et Applications'\n",
      " 'Master 2 Mathématiques Appliquées option Probabilités Statistiques'\n",
      " 'Licence 1 Professionnelle option Marketing et Communication'\n",
      " 'Master 2 Valorisation du patrimoine / FADIS(FAD)'\n",
      " 'Master 1 Ecologie et Gestion des Ecosystèmes'\n",
      " 'Licence 2 professionnelle option Banques et Institutions Financières'\n",
      " 'Master 2 Professionnel Etudes et Pratiques des Relations Internationales'\n",
      " 'Master 1 Biologie Animale spécialité Parasitologie'\n",
      " \"Licence 3 Transmission des données, Sécurité de l'Information et Cryptographie S\"\n",
      " 'Master 2 Algèbre'\n",
      " 'Master 1 Biologie Animale spécialité Génétique des Populations'\n",
      " 'Master 2 Banque - Finance'\n",
      " 'Master 2 Recherche Etudes et Pratiques des Relations Internationales'\n",
      " 'Master 2 Géosciences spécialité : Pétrographie, Métallogénie et Tectonique'\n",
      " 'Master 1 Géosciences spécialité Hydrogéologie'\n",
      " 'Master 2 Aménagement du Territoire, Décentralisation et Développement Local']\n"
     ]
    }
   ],
   "source": [
    "#verification voir si il reste des systeme lmd avant 2011\n",
    "condition = df_total['annee_inscription'] < 2011 \n",
    "df_lmd_avant_2011 = df_total[condition & (df_total['systeme'] == 'LMD')]\n",
    "if not df_lmd_avant_2011.empty:\n",
    "    print(\"Il y a des enregistrements avec le système LMD avant 2011 :\")\n",
    "    print(\"voici les formations concernées :\")      \n",
    "    print(df_lmd_avant_2011['sigle_niveau_section'].unique())\n",
    "    \n"
   ]
  },
  {
   "cell_type": "markdown",
   "id": "37f167e5",
   "metadata": {},
   "source": [
    "> ⚠️ **Remarque importante :**\n",
    ">\n",
    "> Après correction, il reste encore des étudiants avec le système LMD avant 2011.  \n",
    "> Cela signifie que le fichier des niveaux de formation utilisé pour corriger l’anomalie ne couvre pas toutes les formations concernées.  \n",
    "> **Certaines formations n’ont donc pas été corrigées automatiquement.**\n",
    "."
   ]
  },
  {
   "cell_type": "markdown",
   "id": "5b645793",
   "metadata": {},
   "source": [
    "## **Correction des dates de naissance incorrectes**\n",
    "\n",
    "**Objectif :**  \n",
    "Harmoniser le format de la date de naissance, puis détecter les cas aberrants (par exemple, étudiants ayant obtenu le bac à un âge improbable : moins de 14 ans ou plus de 40 ans).  \n",
    "Pour chaque étudiant, si plusieurs dates de naissance existent dans l'historique, choisir la date la plus logique \n"
   ]
  },
  {
   "cell_type": "code",
   "execution_count": null,
   "id": "f203f1f6",
   "metadata": {},
   "outputs": [
    {
     "name": "stdout",
     "output_type": "stream",
     "text": [
      "Toutes les personnes ayant une anomalie d'age ont la même date de naissance dans toute la base.\n"
     ]
    }
   ],
   "source": [
    "def corriger_anomalies_dates(df):\n",
    "    # Harmoniser les dates de naissance\n",
    "    df['annee_naissance'] = pd.to_datetime(df['date_de_naissance'], errors='coerce', format='%d/%m/%Y').dt.year\n",
    "    df['annee_bacc'] = pd.to_numeric(df['annee_bacc'].astype(str).str.extract(r'(\\d{4})')[0], errors='coerce')\n",
    "    df['age_bac'] = df['annee_bacc'] - df['annee_naissance']\n",
    "\n",
    "    # Sélection des étudiants avec âge aberrant\n",
    "    anomalies = df[(df['age_bac'] < 14) | (df['age_bac'] > 40)]\n",
    "\n",
    "    # Vérification de la cohérence des dates de naissance\n",
    "    i = False\n",
    "    for numero, group in anomalies.groupby('numero'):\n",
    "        dates = group['date_de_naissance'].dropna().unique()\n",
    "        if len(dates) != 1:\n",
    "            i = True\n",
    "            break\n",
    "\n",
    "    if i:\n",
    "        print(\"Il existe des personnes avec des anomalies d'age et des dates de naissance différentes dans l'historique.\")\n",
    "    else:\n",
    "        print(\"Toutes les personnes ayant une anomalie d'age ont la même date de naissance dans toute la base.\")\n",
    "\n",
    "# Utilisation\n",
    "corriger_anomalies_dates(df_total)\n",
    "\n",
    "\n"
   ]
  },
  {
   "cell_type": "markdown",
   "id": "1fb6926f",
   "metadata": {},
   "source": [
    "Conclusion : Apres analyse, toutes les personnes presentant une anomalie d'age (moins de 14 ans ou plus de 40 ans au moment du bac) ont la **même date de naissance enregistrée sur toutes leurs années d'inscription**.  \n",
    "Il est quasiment impossible de savoir la date de naissance exacte de ces personnes "
   ]
  },
  {
   "cell_type": "markdown",
   "id": "972c2c15",
   "metadata": {},
   "source": [
    "## **Correction des seri de bac incorrectes**\n",
    "\n",
    "**Objectif :**  \n",
    "comme pour les date de naissance on utilise la meme logique \n",
    "\n"
   ]
  },
  {
   "cell_type": "code",
   "execution_count": null,
   "id": "ad47bc79",
   "metadata": {},
   "outputs": [
    {
     "name": "stdout",
     "output_type": "stream",
     "text": [
      "Toutes les personnes ayant une série de bac anormale ont la même série dans toute la base.\n"
     ]
    }
   ],
   "source": [
    "def detecter_anomalies_series(df):\n",
    "    series_normales_avant_98 = [ \"A1\", \"A2\", \"A3\", \"A4\",  \"C\", \"D\", \"E\", \"F1\", \"F2\", \"F3\", \"F4\", \"F5\", \"F6\", \"F7\", \"G1\", \"G2\", \"G3\", \"T1\", \"T2\", \"L'\", \"S'\"  ]  \n",
    "    series_normales_apres_98 = [\"L1B\", \"S1A\", \"S1\", \"L1A\", \"S3\", \"S4\", \"T1\", \"STEG\", \"SEA\", \"F6\",\"S5\", \"S2\", \"STIDD\", \"LA\", \"T2\", \"L-AR\", \"L2\", \"L'1\"]\n",
    "    series_ok = set(series_normales_avant_98 + series_normales_apres_98)\n",
    "\n",
    "    df['serie_bacc'] = df['serie_bacc'].astype(str).str.strip().str.upper()\n",
    "\n",
    "    # Détection des séries anormales\n",
    "    anomalies = df[~df['serie_bacc'].isin(series_ok)]\n",
    "\n",
    "    # Vérification de la cohérence pour chaque étudiant\n",
    "    incoherent = False\n",
    "    for numero, group in anomalies.groupby('numero'):\n",
    "        series = group['serie_bacc'].dropna().unique()\n",
    "        if len(series) != 1:\n",
    "            incoherent = True \n",
    "            break\n",
    "\n",
    "    if incoherent:\n",
    "        print(\"Il existe des personnes avec une série de bac anormale et des séries différentes dans l'historique.\")\n",
    "    else:\n",
    "        print(\"Toutes les personnes ayant une série de bac anormale ont la même série dans toute la base.\")\n",
    "\n",
    "\n",
    "detecter_anomalies_series(df_total) \n"
   ]
  },
  {
   "cell_type": "markdown",
   "id": "bc601d92",
   "metadata": {},
   "source": [
    "Conclusion : Apres analyse, toutes les personnes presentant une anomalie de seri de bac  ont la **même seri de bac enregistre lors de l'inscription**.  \n",
    "Il est quasiment impossible de deviner les vrais seri de bac de ces personnes "
   ]
  },
  {
   "cell_type": "markdown",
   "id": "54b72cca",
   "metadata": {},
   "source": [
    "## **Correction des Mentions de bac incorrectes**"
   ]
  },
  {
   "cell_type": "code",
   "execution_count": null,
   "id": "30cabafa",
   "metadata": {},
   "outputs": [
    {
     "name": "stdout",
     "output_type": "stream",
     "text": [
      "Toutes les personnes ayant une mention de bac anormale ont la même mention dans toute la base.\n"
     ]
    }
   ],
   "source": [
    "mentions_normales  = ['AB', 'BI', 'TB', 'PA']\n",
    "\n",
    "def detecter_anomalies_mentions(df):\n",
    "    # Liste des mentions valides\n",
    "    mentions_normales = ['AB', 'BI', 'TB', 'PA']\n",
    "\n",
    "    # Harmonisation (majuscules, espaces retirés)\n",
    "    df['mention_bacc'] = df['mention_bacc'].astype(str).str.strip().str.upper()\n",
    "\n",
    "    # Détection des mentions anormales\n",
    "    anomalies = df[~df['mention_bacc'].isin(mentions_normales)]\n",
    "\n",
    "    # Vérification de la cohérence pour chaque étudiant\n",
    "    incoherent = False\n",
    "    for numero, group in anomalies.groupby('numero'):\n",
    "        mentions = group['mention_bacc'].dropna().unique()\n",
    "        if len(mentions) != 1:\n",
    "            incoherent = True\n",
    "            break \n",
    "\n",
    "    if incoherent:\n",
    "        print(\"Il existe des personnes avec une mention de bac anormale et des mentions différentes dans l’historique.\")\n",
    "    else:\n",
    "        print(\"Toutes les personnes ayant une mention de bac anormale ont la même mention dans toute la base.\")\n",
    "\n",
    "# Utilisation\n",
    "detecter_anomalies_mentions(df_total)\n",
    "      \n",
    " \n",
    " "
   ]
  }
 ],
 "metadata": {
  "kernelspec": {
   "display_name": "Python 3",
   "language": "python",
   "name": "python3"
  },
  "language_info": {
   "codemirror_mode": {
    "name": "ipython",
    "version": 3
   },
   "file_extension": ".py",
   "mimetype": "text/x-python",
   "name": "python",
   "nbconvert_exporter": "python",
   "pygments_lexer": "ipython3",
   "version": "3.13.2"
  }
 },
 "nbformat": 4,
 "nbformat_minor": 5
}
