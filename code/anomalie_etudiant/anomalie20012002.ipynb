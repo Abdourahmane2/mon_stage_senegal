{
 "cells": [
  {
   "cell_type": "code",
   "execution_count": 471,
   "id": "9e602bcc",
   "metadata": {},
   "outputs": [],
   "source": [
    "import pandas as pd \n",
    "import numpy as np\n",
    "import matplotlib.pyplot as plt"
   ]
  },
  {
   "cell_type": "code",
   "execution_count": 472,
   "id": "764776c6",
   "metadata": {},
   "outputs": [],
   "source": [
    "data= pd.read_csv('C:/Users/HP/Desktop/mon_stage_senegal/data/Etudiants_2001_2024/Liste_globale_des_etudiants_tous_les_champs20012002.csv' , encoding='latin1' ,sep=';')\n"
   ]
  },
  {
   "cell_type": "code",
   "execution_count": 473,
   "id": "ad5acf8c",
   "metadata": {},
   "outputs": [
    {
     "data": {
      "text/plain": [
       "Index(['NUMERO', 'NUMERO_TABLE', 'INE', 'NUMERO_IDENTITIFICATION', 'NOM',\n",
       "       'PRENOM', 'DATE_DE_NAISSANCE', 'LIEU_DE_NAISSANCE',\n",
       "       'MAIL_INSTITUTIONNEL', 'SEXE', 'MENTION_BACC', 'ANNEE_BACC',\n",
       "       'PAYS_DE_NAISSANCE', 'NATIONALITE', 'SERIE_BACC', 'REGION_DE_NAISSANCE',\n",
       "       'ETABLISSMENT_CODE', 'ETABLISSEMENT', 'NIVEAU_SECTION',\n",
       "       'SIGLE_NIVEAU_SECTION', 'COHORTE', 'ETAT_INSCRIPTION',\n",
       "       'ANNEE_INSCRIPTION', 'ANNEE_UNIVERSITAIRE', 'TYPE_FORMATION',\n",
       "       'CODE_NIVEAU', 'NIVEAU', 'DATE_INSCRIPTION', 'NIVEAU LMD',\n",
       "       'NIVEAU LMD ET NON LMD', 'SYSTEME', 'DEPARTEMENT FORMATION'],\n",
       "      dtype='object')"
      ]
     },
     "execution_count": 473,
     "metadata": {},
     "output_type": "execute_result"
    }
   ],
   "source": [
    "data.columns"
   ]
  },
  {
   "cell_type": "code",
   "execution_count": 474,
   "id": "04d0aded",
   "metadata": {},
   "outputs": [
    {
     "name": "stdout",
     "output_type": "stream",
     "text": [
      "#==============Informations sur les anomalie du fichier================ :\n",
      "il y'a 29094 lignes et 32 colonnes.\n"
     ]
    }
   ],
   "source": [
    "#fonction  les  informations du dataframe\n",
    "def afficher_info(df):\n",
    "    print(\"#==============Informations sur les anomalie du fichier================ :\")\n",
    "    print(f\"il y'a {df.shape[0]} lignes et {df.shape[1]} colonnes.\")\n",
    "\n",
    "afficher_info(data)"
   ]
  },
  {
   "cell_type": "code",
   "execution_count": 475,
   "id": "137ecb53",
   "metadata": {},
   "outputs": [
    {
     "name": "stdout",
     "output_type": "stream",
     "text": [
      "il y'a 19235 personnes avec un systeme lmd inscrit inscrit avant 2011  .\n"
     ]
    }
   ],
   "source": [
    "#======= Anomalie1 : les personnes avec un systeme lmd inscrit avant 2010 =========\n",
    "def anomalie1(df):\n",
    "    anomalie1_df = df[(df['ANNEE_INSCRIPTION'] < 2011) & (df['SYSTEME'] == 'LMD')]\n",
    "    if len(anomalie1_df) == 0:\n",
    "        print(\"Il n'y a pas de personnes avec un système LMD inscrit avant 2011.\")\n",
    "    else:\n",
    "     print(f\"il y'a {len(anomalie1_df)} personnes avec un systeme lmd inscrit inscrit avant 2011  .\")\n",
    "    \n",
    "anomalie1(data) "
   ]
  },
  {
   "cell_type": "code",
   "execution_count": 476,
   "id": "b2ab7255",
   "metadata": {},
   "outputs": [
    {
     "name": "stdout",
     "output_type": "stream",
     "text": [
      " le nombre de valeur manquante pour chaque colonne   :\n",
      "NUMERO_TABLE           29094\n",
      "INE                    27181\n",
      "LIEU_DE_NAISSANCE        104\n",
      "MAIL_INSTITUTIONNEL    25650\n",
      "MENTION_BACC             334\n",
      "ANNEE_BACC               279\n",
      "SERIE_BACC               435\n",
      "REGION_DE_NAISSANCE    10534\n",
      "COHORTE                26738\n",
      "NIVEAU LMD              9859\n",
      "dtype: int64\n"
     ]
    }
   ],
   "source": [
    "#=========== Anomalie2 :  les valeurs manquantes dans les colonnes  ==========\n",
    "def anomalie2(df):\n",
    "    anomalie2_df = df.isnull().sum()\n",
    "    anomalie2_df = anomalie2_df[anomalie2_df > 0]\n",
    "    print(\" le nombre de valeur manquante pour chaque colonne   :\")\n",
    "    print(anomalie2_df )\n",
    "anomalie2(data)    "
   ]
  },
  {
   "cell_type": "markdown",
   "id": "0a117266",
   "metadata": {},
   "source": [
    "ici on vas reperer les année de naisance anormales \n",
    "tous les personnes ayant passant le bac  avant  14 ans ou apres 40 ans sont consideres comme anormales \n",
    "les personnes qui ont passes leur bac apres 30ans sont pas impossible mais tres rare "
   ]
  },
  {
   "cell_type": "code",
   "execution_count": null,
   "id": "021b83e8",
   "metadata": {},
   "outputs": [
    {
     "name": "stdout",
     "output_type": "stream",
     "text": [
      "Il y a 17 personnes qui ont passé le bac avant 14 ans. voici leur année de naissance et l'année de bac : \t\n",
      "      DATE_DE_NAISSANCE  ANNEE_BACC\n",
      "205          1969-02-10      1981.0\n",
      "2408         1978-12-06      1990.0\n",
      "3207         1980-02-01      1993.0\n",
      "3292         1977-07-03      1977.0\n",
      "6309         1975-12-01      1979.0\n",
      "6448         1972-05-06      1984.0\n",
      "7134         1974-11-03      1974.0\n",
      "9273         1976-04-10      1988.0\n",
      "12114        1992-06-09      2001.0\n",
      "16097        2098-09-12      2001.0\n",
      "17347        1976-07-03      1977.0\n",
      "17857        1973-05-02      1973.0\n",
      "24405        1977-11-11      1977.0\n",
      "26663        1978-11-01      1988.0\n",
      "28097        1974-10-09      1974.0\n",
      "29020        1979-03-03      1991.0\n",
      "29068        1972-05-07      1972.0\n",
      "Il y a 10 personnes qui ont passé le bac avant 40 ans. voici leur année de naissance et l'année de bac : \t\n",
      "      DATE_DE_NAISSANCE  ANNEE_BACC\n",
      "4682         1954-01-09      1997.0\n",
      "5752         1980-10-07      2201.0\n",
      "10491        1956-07-03      1997.0\n",
      "11597        1980-01-08      2201.0\n",
      "13956        1980-09-03      4737.0\n",
      "14350        1982-05-11      2375.0\n",
      "16228        1959-02-08      2003.0\n",
      "21353        1983-10-05      2201.0\n",
      "21396        1955-07-05      1996.0\n",
      "23743        1954-10-01      2000.0\n",
      "Il y a 34 personnes qui ont passé le bac avant 30 ans.! pas impossible mais rare\n"
     ]
    }
   ],
   "source": [
    "#======anomalie3 :  les annéee de naissance pas bon ===============\n",
    "\n",
    "\n",
    "def anomalie3(data):\n",
    "    # Convertir la colonne 'DATE_DE_NAISSANCE' en datetime\n",
    "    data['DATE_DE_NAISSANCE'] = pd.to_datetime(data['DATE_DE_NAISSANCE'], errors='coerce')\n",
    "    # Extraire l'année de naissance\n",
    "    data['annee_naissance'] = data['DATE_DE_NAISSANCE'].dt.year\n",
    "    # Nettoyer et extraire uniquement les années de bac à 4 chiffres\n",
    "    data['ANNEE_BACC'] = pd.to_numeric(\n",
    "        data['ANNEE_BACC'].astype(str).str.extract(r'(\\d{4})')[0], \n",
    "        errors='coerce'\n",
    "    )\n",
    "   # Calculer l'âge au bac uniquement pour les lignes valides\n",
    "    data['age_bac'] = data['ANNEE_BACC'] - data['annee_naissance']\n",
    "   # Rechercher les personnes ayant passé le bac avant 14 ans\n",
    "    personnes_bac_avant_14_ans = data[data['age_bac'] < 14]\n",
    "    personnes_bac_apres_40ans = data[data['age_bac'] > 40]\n",
    "    personnes_bac_apres_30ans = data[data['age_bac'] > 30]\n",
    "    print(f\"Il y a {personnes_bac_avant_14_ans.shape[0]} personnes qui ont passé le bac avant 14 ans. voici leur année de naissance et l'année de bac : \\t\")\n",
    "    print(personnes_bac_avant_14_ans[['DATE_DE_NAISSANCE', 'ANNEE_BACC']])\n",
    "    print(f\"Il y a {personnes_bac_apres_40ans.shape[0]} personnes qui ont passé le bac avant 40 ans. voici leur année de naissance et l'année de bac : \\t\")\n",
    "    print(personnes_bac_apres_40ans[['DATE_DE_NAISSANCE', 'ANNEE_BACC']])\n",
    "    print(f\"Il y a {personnes_bac_apres_30ans.shape[0]} personnes qui ont passé le bac avant 30 ans.! pas impossible mais rare\")\n",
    "\n",
    "    \n",
    "anomalie3(data)     "
   ]
  },
  {
   "cell_type": "markdown",
   "id": "69816858",
   "metadata": {},
   "source": [
    "on veut reperer les personnes qui font deux ou tois formations differentes "
   ]
  },
  {
   "cell_type": "code",
   "execution_count": 478,
   "id": "bb997104",
   "metadata": {},
   "outputs": [
    {
     "name": "stdout",
     "output_type": "stream",
     "text": [
      "Il y a 243 doublons exacts dans le DataFrame.\n",
      "Il y a 122 personnes qui ont étudié dans 2 établissements différents.\n",
      "Il y a 0 personnes qui ont étudié dans 3 établissements différents.\n",
      "Il y a 0 personnes qui ont étudié dans 4 établissements différents.\n",
      "Il y a 0 personnes qui ont étudié dans plus de 4 établissements différents.\n"
     ]
    }
   ],
   "source": [
    "def anomalie4(data):\n",
    "    # Compter les doublons exacts (lignes identiques)\n",
    "    total = data.duplicated(subset='NUMERO').sum()\n",
    "    \n",
    "    # Filtrer les étudiants apparaissant plusieurs fois avec le même numéro\n",
    "    d = data[data.duplicated(subset=['NUMERO'], keep=False)]\n",
    "\n",
    "    # Compter le nombre d'établissements différents pour chaque étudiant\n",
    "    totale1 = d.groupby('NUMERO')['ETABLISSMENT_CODE'].nunique()\n",
    "\n",
    "    # Compter combien d'étudiants ont étudié dans plusieurs établissements\n",
    "    nb_personnes_2_formations = (totale1 == 2).sum()\n",
    "    nb_personnes_3_formations = (totale1 == 3).sum()\n",
    "    nb_personnes_4_formations = (totale1 == 4).sum()\n",
    "    nb_personnes_plus_4 = (totale1 > 4).sum()\n",
    "\n",
    "    print(f\"Il y a {total} doublons exacts dans le DataFrame.\")\n",
    "    print(f\"Il y a {nb_personnes_2_formations} personnes qui ont étudié dans 2 établissements différents.\")\n",
    "    print(f\"Il y a {nb_personnes_3_formations} personnes qui ont étudié dans 3 établissements différents.\")\n",
    "    print(f\"Il y a {nb_personnes_4_formations} personnes qui ont étudié dans 4 établissements différents.\")\n",
    "    print(f\"Il y a {nb_personnes_plus_4} personnes qui ont étudié dans plus de 4 établissements différents.\")\n",
    "    \n",
    "    \n",
    "anomalie4(data)    \n"
   ]
  },
  {
   "cell_type": "code",
   "execution_count": 479,
   "id": "b1276784",
   "metadata": {},
   "outputs": [
    {
     "data": {
      "text/plain": [
       "array(['PA', 'AB', 'BI', nan, 'TB', 'ba', 'p', 'TH', 'HO', 'DI', 'DA',\n",
       "       '50', 'ta', 'A', 'Ka', 'da', 'P', '0', '15'], dtype=object)"
      ]
     },
     "execution_count": 479,
     "metadata": {},
     "output_type": "execute_result"
    }
   ],
   "source": [
    "#afficher les mentions de bac valides \n",
    "data['MENTION_BACC'].unique()"
   ]
  },
  {
   "cell_type": "markdown",
   "id": "555a5fbe",
   "metadata": {},
   "source": [
    "on remarque des mentions de bac pas normales comme '50' , '15' etc........"
   ]
  },
  {
   "cell_type": "code",
   "execution_count": 480,
   "id": "aa3d305e",
   "metadata": {},
   "outputs": [
    {
     "name": "stdout",
     "output_type": "stream",
     "text": [
      "il y'a 798 mentions anormales au bac\n",
      "les mentions anormales sont :  ['BI' nan 'ba' 'p' 'TH' 'HO' 'DI' 'DA' '50' 'ta' 'A' 'Ka' 'da' 'P' '0'\n",
      " '15']\n"
     ]
    }
   ],
   "source": [
    "#========== anomalie5 : les mentions au bac pas normales  ===========\n",
    "def anomalie5(data):\n",
    "    #les mentions au bac pas normales\n",
    "    compteur = 0 \n",
    "    mentions_normales  = ['AB', 'B', 'TB', 'PA']\n",
    "    #compter le nombre de mentions anormales\n",
    "    for i in data['MENTION_BACC']:\n",
    "        if i not in mentions_normales:\n",
    "            compteur+=1 \n",
    "        \n",
    "    print(f\"il y'a {compteur} mentions anormales au bac\")\n",
    "    #afficher les mentions anormales\n",
    "    mentions_anormales = data[~data['MENTION_BACC'].isin(mentions_normales)]['MENTION_BACC'].unique()\n",
    "    print(\"les mentions anormales sont : \", mentions_anormales)\n",
    "    \n",
    "anomalie5(data)   "
   ]
  },
  {
   "cell_type": "markdown",
   "id": "fdce0070",
   "metadata": {},
   "source": [
    "les personnes qui ont basse apres le bac apartir de 1998 auront comme serie de bac [L1B,S1A,S1,L1A,S3,S4,T1,STEG,SEA,F6,S5,S2,STIDD,LA,T2,L-AR,L2,L'1]\n",
    "les personnes qui ont passe le bac avant 1998 auront comme seri series_bac_avant_1998 = [\"A1\", \"A2\", \"A3\", \"A4\", \"C\", \"D\", \"E\",  \"F1\", \"F2\", \"F3\", \"F4\" ,\"F5\", \"F6\", \"F7\",  \"G1\", \"G2\", \"G3\",  \"T1\", \"T2\",  \"L'\", \"S'\"  ]"
   ]
  },
  {
   "cell_type": "code",
   "execution_count": 481,
   "id": "4a61fa8c",
   "metadata": {},
   "outputs": [
    {
     "data": {
      "text/plain": [
       "array(['C', 'S2', 'D', 'B', 'G2', 'A3', 'A', \"L'1\", 'L2', nan, 'S1', 'G',\n",
       "       'A4', 'E', 'A2', 'S3', 'S', 'T1', 'T2', 'a3', \"L'\", 'F7', 'F2'],\n",
       "      dtype=object)"
      ]
     },
     "execution_count": 481,
     "metadata": {},
     "output_type": "execute_result"
    }
   ],
   "source": [
    "data['SERIE_BACC'].unique()"
   ]
  },
  {
   "cell_type": "code",
   "execution_count": 482,
   "id": "83d6615e",
   "metadata": {},
   "outputs": [
    {
     "name": "stdout",
     "output_type": "stream",
     "text": [
      "il y'a 1150 qui ont passe leur bac avant  1998 qui une serie de bac pas normale\n",
      "ces series sont :  ['B' 'A' 'S2' nan \"L'1\" 'S' 'L2' 'S1' 'S3' 'G' 'a3']\n",
      "il y'a 2693 qui ont passe leur bac apres  1998 qui une serie de bac pas normale\n",
      "ces series sont :  ['G2' 'A3' nan 'A' 'C' 'D' 'G' 'B' 'S' 'E' 'A2' 'A4' 'a3' \"L'\" 'F7']\n"
     ]
    }
   ],
   "source": [
    "#==========anomalie6 : les series de bac pas valides =======\n",
    "def anomalie6(data):\n",
    "    #les series de bac pas valides\n",
    "    compteur = 0 \n",
    "    compteur1 = 0\n",
    "    series_normales_avant_98 = [ \"A1\", \"A2\", \"A3\", \"A4\",  \"C\", \"D\", \"E\",\"F1\", \"F2\", \"F3\", \"F4\", \"F5\", \"F6\", \"F7\", \"G1\", \"G2\", \"G3\",  \"T1\", \"T2\",  \"L'\", \"S'\"  ]  \n",
    "    series_normales_apres_98 = [\"L1B\", \"S1A\", \"S1\", \"L1A\", \"S3\", \"S4\", \"T1\", \"STEG\", \"SEA\", \"F6\",\"S5\", \"S2\", \"STIDD\", \"LA\", \"T2\", \"L-AR\", \"L2\", \"L'1\"]         \n",
    "     #convertir la colonne 'ANNEE_BACC' en entier\n",
    "    data['ANNEE_BACC'] = pd.to_numeric(data['ANNEE_BACC'], errors='coerce')\n",
    "    #compter le nombre de series anormales\n",
    "    for _, i in data.iterrows():\n",
    "        if i['SERIE_BACC'] not in series_normales_avant_98 and i['ANNEE_BACC'] < 1998:\n",
    "            compteur+=1 \n",
    "        if i['SERIE_BACC'] not in series_normales_apres_98 and i['ANNEE_BACC'] >= 1998:\n",
    "            compteur1+=1    \n",
    "        \n",
    "    print(f\"il y'a {compteur} qui ont passe leur bac avant  1998 qui une serie de bac pas normale\")\n",
    "    #afficher les series anormales\n",
    "    series_anormales = data[~data['SERIE_BACC'].isin(series_normales_avant_98) & (data['ANNEE_BACC'] < 1998)]['SERIE_BACC'].unique()\n",
    "    print(\"ces series sont : \", series_anormales)\n",
    "    print(f\"il y'a {compteur1} qui ont passe leur bac apres  1998 qui une serie de bac pas normale\")\n",
    "    #afficher les series anormales\n",
    "    series_anormales1 = data[~data['SERIE_BACC'].isin(series_normales_apres_98) & (data['ANNEE_BACC'] >= 1998)]['SERIE_BACC'].unique()\n",
    "    print(\"ces series sont : \", series_anormales1)\n",
    "    \n",
    "     \n",
    "anomalie6(data)    "
   ]
  },
  {
   "cell_type": "code",
   "execution_count": 483,
   "id": "5828a898",
   "metadata": {},
   "outputs": [
    {
     "name": "stdout",
     "output_type": "stream",
     "text": [
      "il y'a 1150 qui ont passe leur bac avant  1998 qui une serie de bac pas normale\n",
      "ces series sont :  ['B' 'A' 'S2' nan \"L'1\" 'S' 'L2' 'S1' 'S3' 'G' 'a3']\n",
      "il y'a 2693 qui ont passe leur bac apres  1998 qui une serie de bac pas normale\n",
      "ces series sont :  ['G2' 'A3' nan 'A' 'C' 'D' 'G' 'B' 'S' 'E' 'A2' 'A4' 'a3' \"L'\" 'F7']\n"
     ]
    }
   ],
   "source": [
    "#==========anomalie6 : les series de bac pas valides =======\n",
    "def anomalie6(data):\n",
    "    #les series de bac pas valides  \n",
    "    compteur = 0 \n",
    "    compteur1 = 0\n",
    "    series_normales_avant_98 = [ \"A1\", \"A2\", \"A3\", \"A4\",  \"C\", \"D\", \"E\",\"F1\", \"F2\", \"F3\", \"F4\", \"F5\", \"F6\", \"F7\", \"G1\", \"G2\", \"G3\",  \"T1\", \"T2\",  \"L'\", \"S'\"  ]  \n",
    "    series_normales_apres_98 = [\"L1B\", \"S1A\", \"S1\", \"L1A\", \"S3\", \"S4\", \"T1\", \"STEG\", \"SEA\", \"F6\",\"S5\", \"S2\", \"STIDD\", \"LA\", \"T2\", \"L-AR\", \"L2\", \"L'1\"]         \n",
    "     #convertir la colonne 'ANNEE_BACC' en entier\n",
    "    data['ANNEE_BACC'] = pd.to_numeric(data['ANNEE_BACC'], errors='coerce')\n",
    "    #compter le nombre de series anormales\n",
    "    for _, i in data.iterrows():\n",
    "        if i['SERIE_BACC'] not in series_normales_avant_98 and i['ANNEE_BACC'] < 1998:\n",
    "            compteur+=1 \n",
    "        if i['SERIE_BACC'] not in series_normales_apres_98 and i['ANNEE_BACC'] >= 1998:\n",
    "            compteur1+=1    \n",
    "        \n",
    "    print(f\"il y'a {compteur} qui ont passe leur bac avant  1998 qui une serie de bac pas normale\")\n",
    "    #afficher les series anormales\n",
    "    series_anormales = data[~data['SERIE_BACC'].isin(series_normales_avant_98) & (data['ANNEE_BACC'] < 1998)]['SERIE_BACC'].unique()\n",
    "    print(\"ces series sont : \", series_anormales)\n",
    "    print(f\"il y'a {compteur1} qui ont passe leur bac apres  1998 qui une serie de bac pas normale\")\n",
    "    #afficher les series anormales\n",
    "    series_anormales1 = data[~data['SERIE_BACC'].isin(series_normales_apres_98) & (data['ANNEE_BACC'] >= 1998)]['SERIE_BACC'].unique()\n",
    "    print(\"ces series sont : \", series_anormales1)\n",
    "    \n",
    "     \n",
    "anomalie6(data)    "
   ]
  },
  {
   "cell_type": "code",
   "execution_count": 484,
   "id": "fd20163e",
   "metadata": {},
   "outputs": [],
   "source": [
    "#================= afficher toutes les anomalies ===================\n",
    "def afficher_tous_les_anomalies(data):\n",
    "        afficher_info(data)\n",
    "        anomalie1(data)\n",
    "        anomalie2(data)\n",
    "        anomalie3(data)\n",
    "        anomalie4(data)\n",
    "        anomalie5(data)\n",
    "        anomalie6(data)\n",
    "        \n",
    "\n"
   ]
  },
  {
   "cell_type": "code",
   "execution_count": 485,
   "id": "6d40f1b4",
   "metadata": {},
   "outputs": [
    {
     "name": "stdout",
     "output_type": "stream",
     "text": [
      "#==============Informations sur les anomalie du fichier================ :\n",
      "il y'a 29094 lignes et 34 colonnes.\n",
      "il y'a 19235 personnes avec un systeme lmd inscrit inscrit avant 2011  .\n",
      " le nombre de valeur manquante pour chaque colonne   :\n",
      "NUMERO_TABLE           29094\n",
      "INE                    27181\n",
      "DATE_DE_NAISSANCE      16099\n",
      "LIEU_DE_NAISSANCE        104\n",
      "MAIL_INSTITUTIONNEL    25650\n",
      "MENTION_BACC             334\n",
      "ANNEE_BACC               319\n",
      "SERIE_BACC               435\n",
      "REGION_DE_NAISSANCE    10534\n",
      "COHORTE                26738\n",
      "NIVEAU LMD              9859\n",
      "annee_naissance        16099\n",
      "age_bac                16232\n",
      "dtype: int64\n",
      "Il y a 17 personnes qui ont passé le bac avant 14 ans. voici leur année de naissance et l'année de bac : \t\n",
      "      DATE_DE_NAISSANCE  ANNEE_BACC\n",
      "205          1969-02-10      1981.0\n",
      "2408         1978-12-06      1990.0\n",
      "3207         1980-02-01      1993.0\n",
      "3292         1977-07-03      1977.0\n",
      "6309         1975-12-01      1979.0\n",
      "6448         1972-05-06      1984.0\n",
      "7134         1974-11-03      1974.0\n",
      "9273         1976-04-10      1988.0\n",
      "12114        1992-06-09      2001.0\n",
      "16097        2098-09-12      2001.0\n",
      "17347        1976-07-03      1977.0\n",
      "17857        1973-05-02      1973.0\n",
      "24405        1977-11-11      1977.0\n",
      "26663        1978-11-01      1988.0\n",
      "28097        1974-10-09      1974.0\n",
      "29020        1979-03-03      1991.0\n",
      "29068        1972-05-07      1972.0\n",
      "Il y a 10 personnes qui ont passé le bac avant 40 ans. voici leur année de naissance et l'année de bac : \t\n",
      "      DATE_DE_NAISSANCE  ANNEE_BACC\n",
      "4682         1954-01-09      1997.0\n",
      "5752         1980-10-07      2201.0\n",
      "10491        1956-07-03      1997.0\n",
      "11597        1980-01-08      2201.0\n",
      "13956        1980-09-03      4737.0\n",
      "14350        1982-05-11      2375.0\n",
      "16228        1959-02-08      2003.0\n",
      "21353        1983-10-05      2201.0\n",
      "21396        1955-07-05      1996.0\n",
      "23743        1954-10-01      2000.0\n",
      "Il y a 34 personnes qui ont passé le bac avant 30 ans.! pas impossible mais rare\n",
      "Il y a 243 doublons exacts dans le DataFrame.\n",
      "Il y a 122 personnes qui ont étudié dans 2 établissements différents.\n",
      "Il y a 0 personnes qui ont étudié dans 3 établissements différents.\n",
      "Il y a 0 personnes qui ont étudié dans 4 établissements différents.\n",
      "Il y a 0 personnes qui ont étudié dans plus de 4 établissements différents.\n",
      "il y'a 798 mentions anormales au bac\n",
      "les mentions anormales sont :  ['BI' nan 'ba' 'p' 'TH' 'HO' 'DI' 'DA' '50' 'ta' 'A' 'Ka' 'da' 'P' '0'\n",
      " '15']\n",
      "il y'a 1150 qui ont passe leur bac avant  1998 qui une serie de bac pas normale\n",
      "ces series sont :  ['B' 'A' 'S2' nan \"L'1\" 'S' 'L2' 'S1' 'S3' 'G' 'a3']\n",
      "il y'a 2693 qui ont passe leur bac apres  1998 qui une serie de bac pas normale\n",
      "ces series sont :  ['G2' 'A3' nan 'A' 'C' 'D' 'G' 'B' 'S' 'E' 'A2' 'A4' 'a3' \"L'\" 'F7']\n"
     ]
    }
   ],
   "source": [
    "#exemple d'aaplication de la fonction\n",
    "afficher_tous_les_anomalies(data)"
   ]
  },
  {
   "cell_type": "code",
   "execution_count": 486,
   "id": "4f7075f3",
   "metadata": {},
   "outputs": [],
   "source": [
    "import os\n",
    "import os\n",
    "import io\n",
    "import contextlib\n",
    "import pandas as pd\n",
    "\n",
    "def exporter_anomalies(fichier_entree ):\n",
    "    # Lire le fichier (Excel ou CSV automatiquement détecté)\n",
    "    extension = os.path.splitext(fichier_entree)[1].lower()\n",
    "    if extension == '.csv':\n",
    "        data = pd.read_csv(fichier_entree , encoding='latin1', sep=';')\n",
    "    elif extension in ['.xls', '.xlsx']:\n",
    "        data = pd.read_excel(fichier_entree)\n",
    "    else:\n",
    "        raise ValueError(\"Format de fichier non supporté. Utilisez .csv, .xls ou .xlsx\")\n",
    "\n",
    "    # Construire le nom du fichier de sortie\n",
    "    nom_base = os.path.splitext(os.path.basename(fichier_entree))[0]\n",
    "    nom_sortie = f\"anomalies_{nom_base}.txt\"\n",
    "\n",
    "    # Liste des fonctions d'anomalies\n",
    "    fonctions_anomalies = [anomalie1, anomalie2, anomalie3, anomalie4, anomalie5 , anomalie6]\n",
    "\n",
    "    # Rediriger la sortie print vers un fichier texte\n",
    "    with open(nom_sortie, 'w', encoding='utf-8') as f:\n",
    "        for i, fonction in enumerate(fonctions_anomalies, 1):\n",
    "            f.write(f\"===== Anomalie {i} =====\\n\")\n",
    "            buffer = io.StringIO()\n",
    "            with contextlib.redirect_stdout(buffer):\n",
    "                fonction(data)\n",
    "            f.write(buffer.getvalue())\n",
    "            f.write(\"\\n\\n\")\n",
    "\n",
    "    \n",
    "\n",
    "    \n"
   ]
  },
  {
   "cell_type": "code",
   "execution_count": 487,
   "id": "af1e196b",
   "metadata": {},
   "outputs": [],
   "source": [
    "exporter_anomalies('C:/Users/HP/Desktop/mon_stage_senegal/data/Etudiants_2001_2024/Liste_globale_des_etudiants_tous_les_champs20012002.csv')"
   ]
  }
 ],
 "metadata": {
  "kernelspec": {
   "display_name": "Python 3",
   "language": "python",
   "name": "python3"
  },
  "language_info": {
   "codemirror_mode": {
    "name": "ipython",
    "version": 3
   },
   "file_extension": ".py",
   "mimetype": "text/x-python",
   "name": "python",
   "nbconvert_exporter": "python",
   "pygments_lexer": "ipython3",
   "version": "3.13.2"
  }
 },
 "nbformat": 4,
 "nbformat_minor": 5
}
