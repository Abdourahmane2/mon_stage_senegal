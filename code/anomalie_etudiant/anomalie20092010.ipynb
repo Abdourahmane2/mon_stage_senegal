{
 "cells": [
  {
   "cell_type": "code",
   "execution_count": 1,
   "id": "a2c4c058",
   "metadata": {},
   "outputs": [],
   "source": [
    "import pandas as pd"
   ]
  },
  {
   "cell_type": "markdown",
   "id": "eb2f7f4d",
   "metadata": {},
   "source": [
    "importons le jeux de donneée de l'annee juste avant le LMD\n"
   ]
  },
  {
   "cell_type": "code",
   "execution_count": 2,
   "id": "cb01bdda",
   "metadata": {},
   "outputs": [],
   "source": [
    "data= pd.read_csv('C:/Users/HP/Desktop/mon_stage_senegal/data/Etudiants_2001_2024/Liste_globale_des_etudiants_tous_les_champs20092010.csv' , encoding='latin1' ,sep=';')\n"
   ]
  },
  {
   "cell_type": "markdown",
   "id": "33fff05b",
   "metadata": {},
   "source": [
    "affichons les colonnes pour comprendre la structure du fichier"
   ]
  },
  {
   "cell_type": "code",
   "execution_count": 3,
   "id": "2b6fa624",
   "metadata": {},
   "outputs": [
    {
     "data": {
      "text/plain": [
       "Index(['NUMERO', 'NUMERO_TABLE', 'INE', 'NUMERO_IDENTITIFICATION', 'NOM',\n",
       "       'PRENOM', 'DATE_DE_NAISSANCE', 'LIEU_DE_NAISSANCE',\n",
       "       'MAIL_INSTITUTIONNEL', 'SEXE', 'MENTION_BACC', 'ANNEE_BACC',\n",
       "       'PAYS_DE_NAISSANCE', 'NATIONALITE', 'SERIE_BACC', 'REGION_DE_NAISSANCE',\n",
       "       'ETABLISSMENT_CODE', 'ETABLISSEMENT', 'NIVEAU_SECTION',\n",
       "       'SIGLE_NIVEAU_SECTION', 'COHORTE', 'ETAT_INSCRIPTION',\n",
       "       'ANNEE_INSCRIPTION', 'ANNEE_UNIVERSITAIRE', 'TYPE_FORMATION',\n",
       "       'CODE_NIVEAU', 'NIVEAU', 'DATE_INSCRIPTION', 'NIVEAU LMD',\n",
       "       'NIVEAU LMD ET NON LMD', 'SYSTEME', 'DEPARTEMENT FORMATION'],\n",
       "      dtype='object')"
      ]
     },
     "execution_count": 3,
     "metadata": {},
     "output_type": "execute_result"
    }
   ],
   "source": [
    "data.columns"
   ]
  },
  {
   "cell_type": "markdown",
   "id": "564ec39b",
   "metadata": {},
   "source": [
    "affichons les informations importantes du dataframe"
   ]
  },
  {
   "cell_type": "code",
   "execution_count": null,
   "id": "bb04622d",
   "metadata": {},
   "outputs": [
    {
     "name": "stdout",
     "output_type": "stream",
     "text": [
      "#==============Informations sur le DataFrame================ :\n",
      "il y'a 56115 lignes et 32 colonnes.\n"
     ]
    }
   ],
   "source": [
    "#fonction  les  informations du dataframe\n",
    "def afficher_info(df):\n",
    "    print(\"#==============Informations sur le DataFrame================ :\")\n",
    "    print(f\"il y'a {df.shape[0]} lignes et {df.shape[1]} colonnes.\")\n",
    "\n",
    "afficher_info(data) "
   ]
  },
  {
   "cell_type": "markdown",
   "id": "af09b97d",
   "metadata": {},
   "source": [
    "on remarque que l'année 2009-2010 a plus d'enregistrement que l'année 2001-2002 mais les deux jeux de données ont les meme colonnes "
   ]
  },
  {
   "cell_type": "markdown",
   "id": "8ec4be9a",
   "metadata": {},
   "source": [
    "cherchons les personnes inscrit avec le systeme LMD ces enregistrement seront considéres comme anormales "
   ]
  },
  {
   "cell_type": "code",
   "execution_count": 6,
   "id": "4432d0e1",
   "metadata": {},
   "outputs": [
    {
     "name": "stdout",
     "output_type": "stream",
     "text": [
      "il y'a 36287 personnes avec un systeme lmd inscrit .\n"
     ]
    }
   ],
   "source": [
    "#======= Anomalie1 : les personnes avec un systeme lmd inscrit avant 2010 =========\n",
    "def anomalie1(df):\n",
    "    anomalie1_df = df['SYSTEME'] == 'LMD'\n",
    "    print(f\"il y'a {anomalie1_df.sum()} personnes avec un systeme lmd inscrit .\")\n",
    "    \n",
    "anomalie1(data)    "
   ]
  },
  {
   "cell_type": "markdown",
   "id": "fd1fee20",
   "metadata": {},
   "source": [
    "reperons les colonnes avec des valeurs manquantes "
   ]
  },
  {
   "cell_type": "code",
   "execution_count": 7,
   "id": "1494eb26",
   "metadata": {},
   "outputs": [
    {
     "name": "stdout",
     "output_type": "stream",
     "text": [
      " le nombre de valeur manquante pour chaque colonne   :\n",
      "NUMERO_TABLE           56115\n",
      "INE                    39008\n",
      "LIEU_DE_NAISSANCE         61\n",
      "MAIL_INSTITUTIONNEL    33706\n",
      "MENTION_BACC             338\n",
      "ANNEE_BACC               291\n",
      "SERIE_BACC              1186\n",
      "REGION_DE_NAISSANCE     4042\n",
      "COHORTE                50675\n",
      "NIVEAU LMD             19828\n",
      "dtype: int64\n"
     ]
    }
   ],
   "source": [
    "#=========== Anomalie2 :  les valeurs manquantes dans les colonnes  ==========\n",
    "def anomalie2(df):\n",
    "    anomalie2_df = df.isnull().sum()\n",
    "    anomalie2_df = anomalie2_df[anomalie2_df > 0]\n",
    "    print(\" le nombre de valeur manquante pour chaque colonne   :\")\n",
    "    print(anomalie2_df )\n",
    "anomalie2(data) "
   ]
  },
  {
   "cell_type": "markdown",
   "id": "355a00bf",
   "metadata": {},
   "source": [
    "Petite remarque : la colonne numero_table n’a pas ete renseignee une seule fois valeur manquente(100%)"
   ]
  },
  {
   "cell_type": "markdown",
   "id": "c4b9dfa3",
   "metadata": {},
   "source": [
    "ici on vas reperer les année de naisance anormales \n",
    "tous les personnes ayant passant le bac  avant  14 ans ou apres 40 ans sont consideres comme anormales \n",
    "les personnes qui ont passes leur bac apres 30ans sont pas impossible mais tres rare "
   ]
  },
  {
   "cell_type": "code",
   "execution_count": 9,
   "id": "ace52c94",
   "metadata": {},
   "outputs": [
    {
     "name": "stdout",
     "output_type": "stream",
     "text": [
      "Il y a 25 personnes qui ont passé le bac avant 14 ans. voici leur année de naissance et l'année de bac : \t\n",
      "      DATE_DE_NAISSANCE  ANNEE_BACC\n",
      "2472         2007-12-31      2009.0\n",
      "5834         1986-11-15      1990.0\n",
      "6071         1984-03-08      1979.0\n",
      "10257        1977-01-01      1987.0\n",
      "16152        1981-12-31      1981.0\n",
      "16305        1991-11-16      1991.0\n",
      "16399        1980-08-18      1974.0\n",
      "19871        1991-01-04      2004.0\n",
      "21437        1992-03-21      1994.0\n",
      "24569        1977-02-24      1977.0\n",
      "25290        1977-06-27      1977.0\n",
      "25899        1990-03-07      1990.0\n",
      "26593        1987-08-30      1008.0\n",
      "26789        1990-03-06      2000.0\n",
      "28636        1983-11-20      1993.0\n",
      "30509        1988-09-23      2000.0\n",
      "40402        1978-12-31      1989.0\n",
      "41618        1995-01-01      2007.0\n",
      "42848        1968-09-24      1978.0\n",
      "46880        1977-09-27      1990.0\n",
      "47040        1974-09-28      1966.0\n",
      "51438        1988-08-23      2000.0\n",
      "51698        2010-10-24      2009.0\n",
      "53553        1976-12-31      1977.0\n",
      "54317        2003-07-25      1990.0\n",
      "Il y a 62 personnes qui ont passé le bac avant 40 ans. voici leur année de naissance et l'année de bac : \t\n",
      "      DATE_DE_NAISSANCE  ANNEE_BACC\n",
      "1467         1960-01-01      2008.0\n",
      "1985         1966-08-10      2008.0\n",
      "3110         1985-06-27      5000.0\n",
      "4077         1960-06-20      2008.0\n",
      "4835         1988-04-07      2029.0\n",
      "...                 ...         ...\n",
      "53152        1985-02-08      5000.0\n",
      "53423        1991-11-30      2209.0\n",
      "53473        1983-12-26      2201.0\n",
      "54886        1965-02-05      2008.0\n",
      "55863        1990-10-05      2209.0\n",
      "\n",
      "[62 rows x 2 columns]\n",
      "Il y a 213 personnes qui ont passé le bac avant 30 ans.! pas impossible mais rare\n"
     ]
    }
   ],
   "source": [
    "#======anomalie3 :  les annéee de naissance pas bon ===============\n",
    "\n",
    "\n",
    "def anomalie3(data):\n",
    "    # Convertir la colonne 'DATE_DE_NAISSANCE' en datetime\n",
    "    data['DATE_DE_NAISSANCE'] = pd.to_datetime(data['DATE_DE_NAISSANCE'], errors='coerce')\n",
    "    # Extraire l'année de naissance\n",
    "    data['annee_naissance'] = data['DATE_DE_NAISSANCE'].dt.year\n",
    "    # Nettoyer et extraire uniquement les années de bac à 4 chiffres\n",
    "    data['ANNEE_BACC'] = pd.to_numeric(\n",
    "        data['ANNEE_BACC'].astype(str).str.extract(r'(\\d{4})')[0], \n",
    "        errors='coerce'\n",
    "    )\n",
    "   # Calculer l'âge au bac uniquement pour les lignes valides\n",
    "    data['age_bac'] = data['ANNEE_BACC'] - data['annee_naissance']\n",
    "   # Rechercher les personnes ayant passé le bac avant 14 ans\n",
    "    personnes_bac_avant_14_ans = data[data['age_bac'] < 14]\n",
    "    personnes_bac_apres_40ans = data[data['age_bac'] > 40]\n",
    "    personnes_bac_apres_30ans = data[data['age_bac'] > 30]\n",
    "    print(f\"Il y a {personnes_bac_avant_14_ans.shape[0]} personnes qui ont passé le bac avant 14 ans. voici leur année de naissance et l'année de bac : \\t\")\n",
    "    print(personnes_bac_avant_14_ans[['DATE_DE_NAISSANCE', 'ANNEE_BACC']])\n",
    "    print(f\"Il y a {personnes_bac_apres_40ans.shape[0]} personnes qui ont passé le bac avant 40 ans. voici leur année de naissance et l'année de bac : \\t\")\n",
    "    print(personnes_bac_apres_40ans[['DATE_DE_NAISSANCE', 'ANNEE_BACC']])\n",
    "    print(f\"Il y a {personnes_bac_apres_30ans.shape[0]} personnes qui ont passé le bac avant 30 ans.! pas impossible mais rare\")\n",
    "\n",
    "    \n",
    "anomalie3(data)     "
   ]
  },
  {
   "cell_type": "markdown",
   "id": "64bbd8b1",
   "metadata": {},
   "source": [
    "Nous avons choisi de travailler avec l'age au moment de passer le bac  plutot qu'avec l'annee seule, car une  année peut etre anormale pour une personne et etre correcte pour une autre.l'erreur peut etre soit avec l'anne de naissance soit avec l'anne du bac.l'age permet de detcter les incoherences"
   ]
  },
  {
   "cell_type": "markdown",
   "id": "15b218f3",
   "metadata": {},
   "source": [
    "dans la section suivante notre but est de reperer les doublons ou les personnes qui font deux formations ou plus"
   ]
  },
  {
   "cell_type": "code",
   "execution_count": 12,
   "id": "e15ec877",
   "metadata": {},
   "outputs": [
    {
     "name": "stdout",
     "output_type": "stream",
     "text": [
      "Il y a 0 doublons exacts dans le DataFrame.\n",
      "Il y a 503 personnes qui ont étudié dans 2 établissements différents la meme année.\n",
      "Il y a 2 personnes qui ont étudié dans 3 établissements différents.\n",
      "Il y a 0 personnes qui ont étudié dans 4 établissements différents.\n",
      "Il y a 0 personnes qui ont étudié dans plus de 4 établissements différents.\n"
     ]
    }
   ],
   "source": [
    "def anomalie4(data):\n",
    "    # Compter les doublons exacts (lignes identiques)\n",
    "    total = data.duplicated().sum()\n",
    "    \n",
    "    # Filtrer les étudiants apparaissant plusieurs fois avec le même numéro\n",
    "    d = data[data.duplicated(subset=['NUMERO'], keep=False)]\n",
    "\n",
    "    # Compter le nombre d'établissements différents pour chaque étudiant\n",
    "    totale1 = d.groupby('NUMERO')['ETABLISSMENT_CODE'].nunique()\n",
    "\n",
    "    # Compter combien d'étudiants ont étudié dans plusieurs établissements\n",
    "    nb_personnes_2_formations = (totale1 == 2).sum()\n",
    "    nb_personnes_3_formations = (totale1 == 3).sum()\n",
    "    nb_personnes_4_formations = (totale1 == 4).sum()\n",
    "    nb_personnes_plus_4 = (totale1 > 4).sum()\n",
    "\n",
    "    print(f\"Il y a {total} doublons exacts dans le DataFrame.\")\n",
    "    print(f\"Il y a {nb_personnes_2_formations} personnes qui ont étudié dans 2 établissements différents la meme année.\")\n",
    "    print(f\"Il y a {nb_personnes_3_formations} personnes qui ont étudié dans 3 établissements différents.\")\n",
    "    print(f\"Il y a {nb_personnes_4_formations} personnes qui ont étudié dans 4 établissements différents.\")\n",
    "    print(f\"Il y a {nb_personnes_plus_4} personnes qui ont étudié dans plus de 4 établissements différents.\")\n",
    "    \n",
    "    \n",
    "anomalie4(data)    \n"
   ]
  },
  {
   "cell_type": "markdown",
   "id": "4f8f65e1",
   "metadata": {},
   "source": [
    "cherchons les mentions du bac incorrectes"
   ]
  },
  {
   "cell_type": "code",
   "execution_count": 13,
   "id": "f8dbbb93",
   "metadata": {},
   "outputs": [
    {
     "name": "stdout",
     "output_type": "stream",
     "text": [
      "il y'a 1042 mentions anormales au bac\n",
      "les mentions anormales sont :  [nan ' s' 'BI' '50' 'HO' 'da' '20' 'th' '-' 'mb' 'MB' 'ka' 'lo' 'po' 'do'\n",
      " 'P' 'AS' 'TH' 'pi' 'p' 'no']\n"
     ]
    }
   ],
   "source": [
    "#========== anomalie5 : les mentions au bac pas normales  ===========\n",
    "def anomalie5(data):\n",
    "    #les mentions au bac pas normales\n",
    "    compteur = 0 \n",
    "    mentions_normales  = ['AB', 'B', 'TB', 'PA']\n",
    "    #compter le nombre de mentions anormales\n",
    "    for i in data['MENTION_BACC']:\n",
    "        if i not in mentions_normales:\n",
    "            compteur+=1 \n",
    "        \n",
    "    print(f\"il y'a {compteur} mentions anormales au bac\")\n",
    "    #afficher les mentions anormales\n",
    "    mentions_anormales = data[~data['MENTION_BACC'].isin(mentions_normales)]['MENTION_BACC'].unique()\n",
    "    print(\"les mentions anormales sont : \", mentions_anormales)\n",
    "    \n",
    "anomalie5(data)   "
   ]
  },
  {
   "cell_type": "markdown",
   "id": "fa545764",
   "metadata": {},
   "source": [
    "les personnes qui ont basse apres le bac apartir de 1998 auront comme serie de bac [L1B,S1A,S1,L1A,S3,S4,T1,STEG,SEA,F6,S5,S2,STIDD,LA,T2,L-AR,L2,L'1]\n",
    "les personnes qui ont passe le bac avant 1998 auront comme seri series_bac_avant_1998 = [\"A1\", \"A2\", \"A3\", \"A4\", \"C\", \"D\", \"E\",  \"F1\", \"F2\", \"F3\", \"F4\" ,\"F5\", \"F6\", \"F7\",  \"G1\", \"G2\", \"G3\",  \"T1\", \"T2\",  \"L'\", \"S'\"  ]"
   ]
  },
  {
   "cell_type": "code",
   "execution_count": 14,
   "id": "f588eb38",
   "metadata": {},
   "outputs": [
    {
     "name": "stdout",
     "output_type": "stream",
     "text": [
      "il y'a 568 qui ont passe leur bac avant  1998 qui une serie de bac pas normale\n",
      "ces series sont :  [nan 'S2' 'A' 'L2' 'G' 'S5' 'B' \"L'1\" 'a3' 'S1' 'S' 'S3' 'ES' 'SB']\n",
      "il y'a 5810 qui ont passe leur bac apres  1998 qui une serie de bac pas normale\n",
      "ces series sont :  ['D' 'A3' 'G' 'C' nan 'S' 'A4' 'A' 'SNB' 'A2' 'G2' 'a3' 'B' \"L'\" 'E' 'SM'\n",
      " 'F7' 'SB' 'BT' 'ES' 'SNA' 'F2']\n"
     ]
    }
   ],
   "source": [
    "#==========anomalie6 : les series de bac pas valides =======\n",
    "def anomalie6(data):\n",
    "    #les series de bac pas valides\n",
    "    compteur = 0 \n",
    "    compteur1 = 0\n",
    "    series_normales_avant_98 = [ \"A1\", \"A2\", \"A3\", \"A4\",  \"C\", \"D\", \"E\",\"F1\", \"F2\", \"F3\", \"F4\", \"F5\", \"F6\", \"F7\", \"G1\", \"G2\", \"G3\",  \"T1\", \"T2\",  \"L'\", \"S'\"  ]  \n",
    "    series_normales_apres_98 = [\"L1B\", \"S1A\", \"S1\", \"L1A\", \"S3\", \"S4\", \"T1\", \"STEG\", \"SEA\", \"F6\",\"S5\", \"S2\", \"STIDD\", \"LA\", \"T2\", \"L-AR\", \"L2\", \"L'1\"]         \n",
    "     #convertir la colonne 'ANNEE_BACC' en entier\n",
    "    data['ANNEE_BACC'] = pd.to_numeric(data['ANNEE_BACC'], errors='coerce')\n",
    "    #compter le nombre de series anormales\n",
    "    for _, i in data.iterrows():\n",
    "        if i['SERIE_BACC'] not in series_normales_avant_98 and i['ANNEE_BACC'] < 1998:\n",
    "            compteur+=1 \n",
    "        if i['SERIE_BACC'] not in series_normales_apres_98 and i['ANNEE_BACC'] >= 1998:\n",
    "            compteur1+=1    \n",
    "        \n",
    "    print(f\"il y'a {compteur} qui ont passe leur bac avant  1998 qui une serie de bac pas normale\")\n",
    "    #afficher les series anormales\n",
    "    series_anormales = data[~data['SERIE_BACC'].isin(series_normales_avant_98) & (data['ANNEE_BACC'] < 1998)]['SERIE_BACC'].unique()\n",
    "    print(\"ces series sont : \", series_anormales)\n",
    "    print(f\"il y'a {compteur1} qui ont passe leur bac apres  1998 qui une serie de bac pas normale\")\n",
    "    #afficher les series anormales\n",
    "    series_anormales1 = data[~data['SERIE_BACC'].isin(series_normales_apres_98) & (data['ANNEE_BACC'] >= 1998)]['SERIE_BACC'].unique()\n",
    "    print(\"ces series sont : \", series_anormales1)\n",
    "    \n",
    "     \n",
    "anomalie6(data)    "
   ]
  },
  {
   "cell_type": "markdown",
   "id": "402d2cff",
   "metadata": {},
   "source": [
    "affichage de tous les fonction creer etl'enregistre dans un fichier texte\n"
   ]
  },
  {
   "cell_type": "code",
   "execution_count": 15,
   "id": "43a09365",
   "metadata": {},
   "outputs": [
    {
     "name": "stdout",
     "output_type": "stream",
     "text": [
      "#==============Informations sur le DataFrame================ :\n",
      "il y'a 56115 lignes et 34 colonnes.\n",
      "il y'a 36287 personnes avec un systeme lmd inscrit .\n",
      " le nombre de valeur manquante pour chaque colonne   :\n",
      "NUMERO_TABLE           56115\n",
      "INE                    39008\n",
      "LIEU_DE_NAISSANCE         61\n",
      "MAIL_INSTITUTIONNEL    33706\n",
      "MENTION_BACC             338\n",
      "ANNEE_BACC               353\n",
      "SERIE_BACC              1186\n",
      "REGION_DE_NAISSANCE     4042\n",
      "COHORTE                50675\n",
      "NIVEAU LMD             19828\n",
      "age_bac                  353\n",
      "dtype: int64\n",
      "Il y a 25 personnes qui ont passé le bac avant 14 ans. voici leur année de naissance et l'année de bac : \t\n",
      "      DATE_DE_NAISSANCE  ANNEE_BACC\n",
      "2472         2007-12-31      2009.0\n",
      "5834         1986-11-15      1990.0\n",
      "6071         1984-03-08      1979.0\n",
      "10257        1977-01-01      1987.0\n",
      "16152        1981-12-31      1981.0\n",
      "16305        1991-11-16      1991.0\n",
      "16399        1980-08-18      1974.0\n",
      "19871        1991-01-04      2004.0\n",
      "21437        1992-03-21      1994.0\n",
      "24569        1977-02-24      1977.0\n",
      "25290        1977-06-27      1977.0\n",
      "25899        1990-03-07      1990.0\n",
      "26593        1987-08-30      1008.0\n",
      "26789        1990-03-06      2000.0\n",
      "28636        1983-11-20      1993.0\n",
      "30509        1988-09-23      2000.0\n",
      "40402        1978-12-31      1989.0\n",
      "41618        1995-01-01      2007.0\n",
      "42848        1968-09-24      1978.0\n",
      "46880        1977-09-27      1990.0\n",
      "47040        1974-09-28      1966.0\n",
      "51438        1988-08-23      2000.0\n",
      "51698        2010-10-24      2009.0\n",
      "53553        1976-12-31      1977.0\n",
      "54317        2003-07-25      1990.0\n",
      "Il y a 62 personnes qui ont passé le bac avant 40 ans. voici leur année de naissance et l'année de bac : \t\n",
      "      DATE_DE_NAISSANCE  ANNEE_BACC\n",
      "1467         1960-01-01      2008.0\n",
      "1985         1966-08-10      2008.0\n",
      "3110         1985-06-27      5000.0\n",
      "4077         1960-06-20      2008.0\n",
      "4835         1988-04-07      2029.0\n",
      "...                 ...         ...\n",
      "53152        1985-02-08      5000.0\n",
      "53423        1991-11-30      2209.0\n",
      "53473        1983-12-26      2201.0\n",
      "54886        1965-02-05      2008.0\n",
      "55863        1990-10-05      2209.0\n",
      "\n",
      "[62 rows x 2 columns]\n",
      "Il y a 213 personnes qui ont passé le bac avant 30 ans.! pas impossible mais rare\n",
      "Il y a 0 doublons exacts dans le DataFrame.\n",
      "Il y a 503 personnes qui ont étudié dans 2 établissements différents la meme année.\n",
      "Il y a 2 personnes qui ont étudié dans 3 établissements différents.\n",
      "Il y a 0 personnes qui ont étudié dans 4 établissements différents.\n",
      "Il y a 0 personnes qui ont étudié dans plus de 4 établissements différents.\n",
      "il y'a 1042 mentions anormales au bac\n",
      "les mentions anormales sont :  [nan ' s' 'BI' '50' 'HO' 'da' '20' 'th' '-' 'mb' 'MB' 'ka' 'lo' 'po' 'do'\n",
      " 'P' 'AS' 'TH' 'pi' 'p' 'no']\n",
      "il y'a 568 qui ont passe leur bac avant  1998 qui une serie de bac pas normale\n",
      "ces series sont :  [nan 'S2' 'A' 'L2' 'G' 'S5' 'B' \"L'1\" 'a3' 'S1' 'S' 'S3' 'ES' 'SB']\n",
      "il y'a 5810 qui ont passe leur bac apres  1998 qui une serie de bac pas normale\n",
      "ces series sont :  ['D' 'A3' 'G' 'C' nan 'S' 'A4' 'A' 'SNB' 'A2' 'G2' 'a3' 'B' \"L'\" 'E' 'SM'\n",
      " 'F7' 'SB' 'BT' 'ES' 'SNA' 'F2']\n"
     ]
    }
   ],
   "source": [
    "#================= afficher toutes les anomalies ===================\n",
    "def afficher_tous_les_anomalies(data):\n",
    "        afficher_info(data)\n",
    "        anomalie1(data)\n",
    "        anomalie2(data)\n",
    "        anomalie3(data)\n",
    "        anomalie4(data)\n",
    "        anomalie5(data)\n",
    "        anomalie6(data)\n",
    "        \n",
    "\n",
    "afficher_tous_les_anomalies(data)"
   ]
  }
 ],
 "metadata": {
  "kernelspec": {
   "display_name": "Python 3",
   "language": "python",
   "name": "python3"
  },
  "language_info": {
   "codemirror_mode": {
    "name": "ipython",
    "version": 3
   },
   "file_extension": ".py",
   "mimetype": "text/x-python",
   "name": "python",
   "nbconvert_exporter": "python",
   "pygments_lexer": "ipython3",
   "version": "3.13.2"
  }
 },
 "nbformat": 4,
 "nbformat_minor": 5
}
