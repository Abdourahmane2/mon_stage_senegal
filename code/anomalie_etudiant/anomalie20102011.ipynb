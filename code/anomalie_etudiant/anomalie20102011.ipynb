{
 "cells": [
  {
   "cell_type": "code",
   "execution_count": 14,
   "id": "f62932d6",
   "metadata": {},
   "outputs": [],
   "source": [
    "import pandas as pd"
   ]
  },
  {
   "cell_type": "markdown",
   "id": "47cc803b",
   "metadata": {},
   "source": [
    "importons le jeux de donnée\n"
   ]
  },
  {
   "cell_type": "code",
   "execution_count": 15,
   "id": "0242dbb4",
   "metadata": {},
   "outputs": [],
   "source": [
    "data= pd.read_csv('C:/Users/HP/Desktop/mon_stage_senegal/data/Etudiants_2001_2024/Liste_globale_des_etudiants_tous_les_champs20102011.csv' , encoding='latin1' ,sep=';')\n"
   ]
  },
  {
   "cell_type": "markdown",
   "id": "c9f75cb0",
   "metadata": {},
   "source": [
    "affichage des noms de colonne"
   ]
  },
  {
   "cell_type": "code",
   "execution_count": 16,
   "id": "4745aa00",
   "metadata": {},
   "outputs": [
    {
     "data": {
      "text/plain": [
       "Index(['NUMERO', 'NUMERO_TABLE', 'INE', 'NUMERO_IDENTITIFICATION', 'NOM',\n",
       "       'PRENOM', 'DATE_DE_NAISSANCE', 'LIEU_DE_NAISSANCE',\n",
       "       'MAIL_INSTITUTIONNEL', 'SEXE', 'MENTION_BACC', 'ANNEE_BACC',\n",
       "       'PAYS_DE_NAISSANCE', 'NATIONALITE', 'SERIE_BACC', 'REGION_DE_NAISSANCE',\n",
       "       'ETABLISSMENT_CODE', 'ETABLISSEMENT', 'NIVEAU_SECTION',\n",
       "       'SIGLE_NIVEAU_SECTION', 'COHORTE', 'ETAT_INSCRIPTION',\n",
       "       'ANNEE_INSCRIPTION', 'ANNEE_UNIVERSITAIRE', 'TYPE_FORMATION',\n",
       "       'CODE_NIVEAU', 'NIVEAU', 'DATE_INSCRIPTION', 'NIVEAU LMD',\n",
       "       'NIVEAU LMD ET NON LMD', 'SYSTEME', 'DEPARTEMENT FORMATION'],\n",
       "      dtype='object')"
      ]
     },
     "execution_count": 16,
     "metadata": {},
     "output_type": "execute_result"
    }
   ],
   "source": [
    "data.columns "
   ]
  },
  {
   "cell_type": "markdown",
   "id": "bec23069",
   "metadata": {},
   "source": [
    "afficher les informations du dataframe\n"
   ]
  },
  {
   "cell_type": "code",
   "execution_count": 17,
   "id": "aa75abfd",
   "metadata": {},
   "outputs": [
    {
     "name": "stdout",
     "output_type": "stream",
     "text": [
      "#==============Informations sur le DataFrame================ :\n",
      "il y'a 67522 lignes et 32 colonnes.\n"
     ]
    }
   ],
   "source": [
    "#fonction  les  informations du dataframe\n",
    "def afficher_info(df):\n",
    "    print(\"#==============Informations sur le DataFrame================ :\")\n",
    "    print(f\"il y'a {df.shape[0]} lignes et {df.shape[1]} colonnes.\")\n",
    "\n",
    "afficher_info(data)\n",
    "    "
   ]
  },
  {
   "cell_type": "markdown",
   "id": "2dd71084",
   "metadata": {},
   "source": [
    "on remarque toujours les meme colonnes avec des nombres de lignes differentes"
   ]
  },
  {
   "cell_type": "markdown",
   "id": "ca5e604e",
   "metadata": {},
   "source": [
    "les personnes avec un systeme lmd inscrit avant 2011"
   ]
  },
  {
   "cell_type": "code",
   "execution_count": null,
   "id": "dbd18511",
   "metadata": {},
   "outputs": [
    {
     "name": "stdout",
     "output_type": "stream",
     "text": [
      "il y'a 0 personnes avec un systeme lmd inscrit inscrit en 2011  .\n"
     ]
    }
   ],
   "source": [
    "#======= Anomalie1 : les personnes avec un systeme lmd inscrit avant 2010 =========\n",
    "def anomalie1(df):\n",
    "    anomalie1_df = df[(df['ANNEE_INSCRIPTION'] < 2011) & (df['SYSTEME'] == 'LMD')]\n",
    "    print(f\"il y'a {len(anomalie1_df)} personnes avec un systeme lmd inscrit inscrit avant 2011  .\")\n",
    "    \n",
    "anomalie1(data)    "
   ]
  },
  {
   "cell_type": "markdown",
   "id": "62807106",
   "metadata": {},
   "source": [
    "pour ce fichier on constate que il y'a pas d'anomalie avec le systeme d'inscription"
   ]
  },
  {
   "cell_type": "markdown",
   "id": "b20bbec4",
   "metadata": {},
   "source": [
    "les valeurs manquantes\n"
   ]
  },
  {
   "cell_type": "code",
   "execution_count": 24,
   "id": "620b596e",
   "metadata": {},
   "outputs": [
    {
     "name": "stdout",
     "output_type": "stream",
     "text": [
      " le nombre de valeur manquante pour chaque colonne   :\n",
      "NUMERO_TABLE           67522\n",
      "INE                    40011\n",
      "LIEU_DE_NAISSANCE         80\n",
      "MAIL_INSTITUTIONNEL    34117\n",
      "MENTION_BACC             371\n",
      "ANNEE_BACC               337\n",
      "SERIE_BACC              1309\n",
      "REGION_DE_NAISSANCE     4263\n",
      "COHORTE                60850\n",
      "NIVEAU LMD             20179\n",
      "dtype: int64\n"
     ]
    }
   ],
   "source": [
    "#=========== Anomalie2 :  les valeurs manquantes dans les colonnes  ==========\n",
    "def anomalie2(df):\n",
    "    anomalie2_df = df.isnull().sum()\n",
    "    anomalie2_df = anomalie2_df[anomalie2_df > 0]\n",
    "    print(\" le nombre de valeur manquante pour chaque colonne   :\")\n",
    "    print(anomalie2_df )\n",
    "anomalie2(data) "
   ]
  },
  {
   "cell_type": "markdown",
   "id": "b3d072da",
   "metadata": {},
   "source": [
    "meme remarque pour ce jeu de donne aussi le numero de table n'a pas ete renseigne et le nombre de valeur manquante pour la colonne cohorte est aussi eleve"
   ]
  },
  {
   "cell_type": "markdown",
   "id": "34253e1e",
   "metadata": {},
   "source": [
    "les dates de naissance incoherents avec l'annee de bac comme pour les autres jeu de donnée"
   ]
  },
  {
   "cell_type": "code",
   "execution_count": 26,
   "id": "79c1f846",
   "metadata": {},
   "outputs": [
    {
     "name": "stdout",
     "output_type": "stream",
     "text": [
      "Il y a 35 personnes qui ont passé le bac avant 14 ans. voici leur année de naissance et l'année de bac : \t\n",
      "      DATE_DE_NAISSANCE  ANNEE_BACC\n",
      "1869         2091-10-31      2010.0\n",
      "5882         1985-01-18      1985.0\n",
      "7317         1977-02-24      1977.0\n",
      "7737         1990-03-06      2000.0\n",
      "9181         1965-11-18      1976.0\n",
      "10840        1992-03-21      1994.0\n",
      "14048        1991-11-16      1991.0\n",
      "15154        1999-10-08      2010.0\n",
      "15573        1997-01-03      1997.0\n",
      "17722        1976-12-31      1977.0\n",
      "18792        1986-03-05      1977.0\n",
      "19825        1977-04-24      1977.0\n",
      "21665        1976-07-21      1010.0\n",
      "23326        1987-08-30      1008.0\n",
      "30879        1990-03-07      1990.0\n",
      "31485        1976-03-07      1977.0\n",
      "32556        1972-05-17      1974.0\n",
      "33532        1988-09-23      2000.0\n",
      "38523        1991-01-04      2004.0\n",
      "39831        1991-07-22      1991.0\n",
      "42949        1977-02-23      1977.0\n",
      "47238        1970-01-26      1192.0\n",
      "50180        1983-11-20      1993.0\n",
      "50561        1989-03-04      1999.0\n",
      "51607        1990-08-23      2001.0\n",
      "52857        1977-06-27      1977.0\n",
      "57600        1974-09-28      1966.0\n",
      "58502        1987-08-30      1008.0\n",
      "61182        1966-04-25      1977.0\n",
      "62120        1980-08-18      1974.0\n",
      "62164        1972-07-05      1972.0\n",
      "63207        1973-02-13      1974.0\n",
      "63601        1995-01-01      2007.0\n",
      "64357        1984-03-08      1979.0\n",
      "65454        1971-12-02      1983.0\n",
      "Il y a 75 personnes qui ont passé le bac avant 40 ans. voici leur année de naissance et l'année de bac : \t\n",
      "      DATE_DE_NAISSANCE  ANNEE_BACC\n",
      "1959         1958-12-16      2010.0\n",
      "2158         1960-08-17      2004.0\n",
      "2652         1991-11-30      2209.0\n",
      "2674         1993-04-15      2101.0\n",
      "3085         1952-03-16      1996.0\n",
      "...                 ...         ...\n",
      "62665        1960-04-24      2008.0\n",
      "64106        1979-06-10      2021.0\n",
      "65142        1990-04-04      5000.0\n",
      "65994        1966-06-05      2008.0\n",
      "67232        1988-09-03      5000.0\n",
      "\n",
      "[75 rows x 2 columns]\n",
      "Il y a 267 personnes qui ont passé le bac avant 30 ans.! pas impossible mais rare\n"
     ]
    }
   ],
   "source": [
    "#======anomalie3 :  les annéee de naissance pas bon ===============\n",
    "def anomalie3(data):\n",
    "    # Convertir la colonne 'DATE_DE_NAISSANCE' en datetime\n",
    "    data['DATE_DE_NAISSANCE'] = pd.to_datetime(data['DATE_DE_NAISSANCE'], errors='coerce')\n",
    "    # Extraire l'année de naissance\n",
    "    data['annee_naissance'] = data['DATE_DE_NAISSANCE'].dt.year\n",
    "    # Nettoyer et extraire uniquement les années de bac à 4 chiffres\n",
    "    data['ANNEE_BACC'] = pd.to_numeric(\n",
    "        data['ANNEE_BACC'].astype(str).str.extract(r'(\\d{4})')[0], \n",
    "        errors='coerce'\n",
    "    )\n",
    "   # Calculer l'âge au bac uniquement pour les lignes valides\n",
    "    data['age_bac'] = data['ANNEE_BACC'] - data['annee_naissance']\n",
    "   # Rechercher les personnes ayant passé le bac avant 14 ans\n",
    "    personnes_bac_avant_14_ans = data[data['age_bac'] < 14]\n",
    "    personnes_bac_apres_40ans = data[data['age_bac'] > 40]\n",
    "    personnes_bac_apres_30ans = data[data['age_bac'] > 30]\n",
    "    print(f\"Il y a {personnes_bac_avant_14_ans.shape[0]} personnes qui ont passé le bac avant 14 ans. voici leur année de naissance et l'année de bac : \\t\")\n",
    "    print(personnes_bac_avant_14_ans[['DATE_DE_NAISSANCE', 'ANNEE_BACC']])\n",
    "    print(f\"Il y a {personnes_bac_apres_40ans.shape[0]} personnes qui ont passé le bac avant 40 ans. voici leur année de naissance et l'année de bac : \\t\")\n",
    "    print(personnes_bac_apres_40ans[['DATE_DE_NAISSANCE', 'ANNEE_BACC']])\n",
    "    print(f\"Il y a {personnes_bac_apres_30ans.shape[0]} personnes qui ont passé le bac avant 30 ans.! pas impossible mais rare\")\n",
    "\n",
    "    \n",
    "anomalie3(data)     "
   ]
  },
  {
   "cell_type": "markdown",
   "id": "0e96dd14",
   "metadata": {},
   "source": [
    "des personnes qui passent le bac apres 30 ans ou avant 14 ans normales ? \n",
    "a revoir !"
   ]
  },
  {
   "cell_type": "code",
   "execution_count": 27,
   "id": "c15cbd85",
   "metadata": {},
   "outputs": [
    {
     "name": "stdout",
     "output_type": "stream",
     "text": [
      "Il y a 0 doublons exacts dans le DataFrame.\n",
      "Il y a 597 personnes qui ont étudié dans 2 établissements différents la meme année.\n",
      "Il y a 2 personnes qui ont étudié dans 3 établissements différents.\n",
      "Il y a 0 personnes qui ont étudié dans 4 établissements différents.\n",
      "Il y a 0 personnes qui ont étudié dans plus de 4 établissements différents.\n"
     ]
    }
   ],
   "source": [
    "def anomalie4(data):\n",
    "    # Compter les doublons exacts (lignes identiques)\n",
    "    total = data.duplicated().sum()\n",
    "    \n",
    "    # Filtrer les étudiants apparaissant plusieurs fois avec le même numéro\n",
    "    d = data[data.duplicated(subset=['NUMERO'], keep=False)]\n",
    "\n",
    "    # Compter le nombre d'établissements différents pour chaque étudiant\n",
    "    totale1 = d.groupby('NUMERO')['ETABLISSMENT_CODE'].nunique()\n",
    "\n",
    "    # Compter combien d'étudiants ont étudié dans plusieurs établissements\n",
    "    nb_personnes_2_formations = (totale1 == 2).sum()\n",
    "    nb_personnes_3_formations = (totale1 == 3).sum()\n",
    "    nb_personnes_4_formations = (totale1 == 4).sum()\n",
    "    nb_personnes_plus_4 = (totale1 > 4).sum()\n",
    "\n",
    "    print(f\"Il y a {total} doublons exacts dans le DataFrame.\")\n",
    "    print(f\"Il y a {nb_personnes_2_formations} personnes qui ont étudié dans 2 établissements différents la meme année.\")\n",
    "    print(f\"Il y a {nb_personnes_3_formations} personnes qui ont étudié dans 3 établissements différents.\")\n",
    "    print(f\"Il y a {nb_personnes_4_formations} personnes qui ont étudié dans 4 établissements différents.\")\n",
    "    print(f\"Il y a {nb_personnes_plus_4} personnes qui ont étudié dans plus de 4 établissements différents.\")\n",
    "    \n",
    "    \n",
    "anomalie4(data)    \n"
   ]
  },
  {
   "cell_type": "markdown",
   "id": "d67425c5",
   "metadata": {},
   "source": [
    "les mentions au bac incorrectes"
   ]
  },
  {
   "cell_type": "code",
   "execution_count": 28,
   "id": "20e72152",
   "metadata": {},
   "outputs": [
    {
     "name": "stdout",
     "output_type": "stream",
     "text": [
      "il y'a 1170 mentions anormales au bac\n",
      "les mentions anormales sont :  ['BI' nan 'ru' 'Ab' 'LV' 'HO' '50' 'lo' 'da' '..' 'mb' 'ka' 'pi' '20' 'p'\n",
      " 'gu' '-' '36' 'po' 'TH' 'AS' ' s' 'di' 'do' 'BA' 'no' 'th' 'ba' 'LS']\n"
     ]
    }
   ],
   "source": [
    "#========== anomalie5 : les mentions au bac pas normales  ===========\n",
    "def anomalie5(data):\n",
    "    #les mentions au bac pas normales\n",
    "    compteur = 0 \n",
    "    mentions_normales  = ['AB', 'B', 'TB', 'PA']\n",
    "    #compter le nombre de mentions anormales\n",
    "    for i in data['MENTION_BACC']:\n",
    "        if i not in mentions_normales:\n",
    "            compteur+=1 \n",
    "        \n",
    "    print(f\"il y'a {compteur} mentions anormales au bac\")\n",
    "    #afficher les mentions anormales\n",
    "    mentions_anormales = data[~data['MENTION_BACC'].isin(mentions_normales)]['MENTION_BACC'].unique()\n",
    "    print(\"les mentions anormales sont : \", mentions_anormales)\n",
    "    \n",
    "anomalie5(data)   "
   ]
  },
  {
   "cell_type": "markdown",
   "id": "775c7ab6",
   "metadata": {},
   "source": [
    "ce fichier a plus de mentions au bac incorectes que tous les autres fichiers"
   ]
  },
  {
   "cell_type": "markdown",
   "id": "a3756ffd",
   "metadata": {},
   "source": [
    "les series de bac avant 98"
   ]
  },
  {
   "cell_type": "code",
   "execution_count": 29,
   "id": "0093af86",
   "metadata": {},
   "outputs": [
    {
     "name": "stdout",
     "output_type": "stream",
     "text": [
      "il y'a 633 qui ont passe leur bac avant  1998 qui une serie de bac pas normale\n",
      "ces series sont :  [nan 'A' 'B' 'S2' \"L'1\" 'ES' 'S' 'a3' 'L2' 'G' 'SB' 'S5' 'S1']\n",
      "il y'a 6459 qui ont passe leur bac apres  1998 qui une serie de bac pas normale\n",
      "ces series sont :  ['D' 'G' nan 'S' 'A4' 'C' 'A' 'SNB' \"L'\" 'B' 'BT' 'A2' 'a3' 'G2' 'A3' 'SM'\n",
      " 'SB' 'E' 'ES' 'F7' 'SNA' 'LAR']\n"
     ]
    }
   ],
   "source": [
    "#==========anomalie6 : les series de bac pas valides =======\n",
    "def anomalie6(data):\n",
    "    #les series de bac pas valides\n",
    "    compteur = 0 \n",
    "    compteur1 = 0\n",
    "    series_normales_avant_98 = [ \"A1\", \"A2\", \"A3\", \"A4\",  \"C\", \"D\", \"E\",\"F1\", \"F2\", \"F3\", \"F4\", \"F5\", \"F6\", \"F7\", \"G1\", \"G2\", \"G3\",  \"T1\", \"T2\",  \"L'\", \"S'\"  ]  \n",
    "    series_normales_apres_98 = [\"L1B\", \"S1A\", \"S1\", \"L1A\", \"S3\", \"S4\", \"T1\", \"STEG\", \"SEA\", \"F6\",\"S5\", \"S2\", \"STIDD\", \"LA\", \"T2\", \"L-AR\", \"L2\", \"L'1\"]         \n",
    "     #convertir la colonne 'ANNEE_BACC' en entier\n",
    "    data['ANNEE_BACC'] = pd.to_numeric(data['ANNEE_BACC'], errors='coerce')\n",
    "    #compter le nombre de series anormales\n",
    "    for _, i in data.iterrows():\n",
    "        if i['SERIE_BACC'] not in series_normales_avant_98 and i['ANNEE_BACC'] < 1998:\n",
    "            compteur+=1 \n",
    "        if i['SERIE_BACC'] not in series_normales_apres_98 and i['ANNEE_BACC'] >= 1998:\n",
    "            compteur1+=1    \n",
    "        \n",
    "    print(f\"il y'a {compteur} qui ont passe leur bac avant  1998 qui une serie de bac pas normale\")\n",
    "    #afficher les series anormales\n",
    "    series_anormales = data[~data['SERIE_BACC'].isin(series_normales_avant_98) & (data['ANNEE_BACC'] < 1998)]['SERIE_BACC'].unique()\n",
    "    print(\"ces series sont : \", series_anormales)\n",
    "    print(f\"il y'a {compteur1} qui ont passe leur bac apres  1998 qui une serie de bac pas normale\")\n",
    "    #afficher les series anormales\n",
    "    series_anormales1 = data[~data['SERIE_BACC'].isin(series_normales_apres_98) & (data['ANNEE_BACC'] >= 1998)]['SERIE_BACC'].unique()\n",
    "    print(\"ces series sont : \", series_anormales1)\n",
    "    \n",
    "     \n",
    "anomalie6(data)    "
   ]
  },
  {
   "cell_type": "markdown",
   "id": "2b02b177",
   "metadata": {},
   "source": [
    "on constate que pour cette année il y'a plus de mentions au bac incorrectes "
   ]
  },
  {
   "cell_type": "code",
   "execution_count": 30,
   "id": "b61f4e45",
   "metadata": {},
   "outputs": [
    {
     "name": "stdout",
     "output_type": "stream",
     "text": [
      "#==============Informations sur le DataFrame================ :\n",
      "il y'a 67522 lignes et 34 colonnes.\n",
      "il y'a 0 personnes avec un systeme lmd inscrit inscrit en 2011  .\n",
      " le nombre de valeur manquante pour chaque colonne   :\n",
      "NUMERO_TABLE           67522\n",
      "INE                    40011\n",
      "DATE_DE_NAISSANCE          1\n",
      "LIEU_DE_NAISSANCE         80\n",
      "MAIL_INSTITUTIONNEL    34117\n",
      "MENTION_BACC             371\n",
      "ANNEE_BACC               412\n",
      "SERIE_BACC              1309\n",
      "REGION_DE_NAISSANCE     4263\n",
      "COHORTE                60850\n",
      "NIVEAU LMD             20179\n",
      "annee_naissance            1\n",
      "age_bac                  413\n",
      "dtype: int64\n",
      "Il y a 35 personnes qui ont passé le bac avant 14 ans. voici leur année de naissance et l'année de bac : \t\n",
      "      DATE_DE_NAISSANCE  ANNEE_BACC\n",
      "1869         2091-10-31      2010.0\n",
      "5882         1985-01-18      1985.0\n",
      "7317         1977-02-24      1977.0\n",
      "7737         1990-03-06      2000.0\n",
      "9181         1965-11-18      1976.0\n",
      "10840        1992-03-21      1994.0\n",
      "14048        1991-11-16      1991.0\n",
      "15154        1999-10-08      2010.0\n",
      "15573        1997-01-03      1997.0\n",
      "17722        1976-12-31      1977.0\n",
      "18792        1986-03-05      1977.0\n",
      "19825        1977-04-24      1977.0\n",
      "21665        1976-07-21      1010.0\n",
      "23326        1987-08-30      1008.0\n",
      "30879        1990-03-07      1990.0\n",
      "31485        1976-03-07      1977.0\n",
      "32556        1972-05-17      1974.0\n",
      "33532        1988-09-23      2000.0\n",
      "38523        1991-01-04      2004.0\n",
      "39831        1991-07-22      1991.0\n",
      "42949        1977-02-23      1977.0\n",
      "47238        1970-01-26      1192.0\n",
      "50180        1983-11-20      1993.0\n",
      "50561        1989-03-04      1999.0\n",
      "51607        1990-08-23      2001.0\n",
      "52857        1977-06-27      1977.0\n",
      "57600        1974-09-28      1966.0\n",
      "58502        1987-08-30      1008.0\n",
      "61182        1966-04-25      1977.0\n",
      "62120        1980-08-18      1974.0\n",
      "62164        1972-07-05      1972.0\n",
      "63207        1973-02-13      1974.0\n",
      "63601        1995-01-01      2007.0\n",
      "64357        1984-03-08      1979.0\n",
      "65454        1971-12-02      1983.0\n",
      "Il y a 75 personnes qui ont passé le bac avant 40 ans. voici leur année de naissance et l'année de bac : \t\n",
      "      DATE_DE_NAISSANCE  ANNEE_BACC\n",
      "1959         1958-12-16      2010.0\n",
      "2158         1960-08-17      2004.0\n",
      "2652         1991-11-30      2209.0\n",
      "2674         1993-04-15      2101.0\n",
      "3085         1952-03-16      1996.0\n",
      "...                 ...         ...\n",
      "62665        1960-04-24      2008.0\n",
      "64106        1979-06-10      2021.0\n",
      "65142        1990-04-04      5000.0\n",
      "65994        1966-06-05      2008.0\n",
      "67232        1988-09-03      5000.0\n",
      "\n",
      "[75 rows x 2 columns]\n",
      "Il y a 267 personnes qui ont passé le bac avant 30 ans.! pas impossible mais rare\n",
      "Il y a 0 doublons exacts dans le DataFrame.\n",
      "Il y a 597 personnes qui ont étudié dans 2 établissements différents la meme année.\n",
      "Il y a 2 personnes qui ont étudié dans 3 établissements différents.\n",
      "Il y a 0 personnes qui ont étudié dans 4 établissements différents.\n",
      "Il y a 0 personnes qui ont étudié dans plus de 4 établissements différents.\n",
      "il y'a 1170 mentions anormales au bac\n",
      "les mentions anormales sont :  ['BI' nan 'ru' 'Ab' 'LV' 'HO' '50' 'lo' 'da' '..' 'mb' 'ka' 'pi' '20' 'p'\n",
      " 'gu' '-' '36' 'po' 'TH' 'AS' ' s' 'di' 'do' 'BA' 'no' 'th' 'ba' 'LS']\n",
      "il y'a 633 qui ont passe leur bac avant  1998 qui une serie de bac pas normale\n",
      "ces series sont :  [nan 'A' 'B' 'S2' \"L'1\" 'ES' 'S' 'a3' 'L2' 'G' 'SB' 'S5' 'S1']\n",
      "il y'a 6459 qui ont passe leur bac apres  1998 qui une serie de bac pas normale\n",
      "ces series sont :  ['D' 'G' nan 'S' 'A4' 'C' 'A' 'SNB' \"L'\" 'B' 'BT' 'A2' 'a3' 'G2' 'A3' 'SM'\n",
      " 'SB' 'E' 'ES' 'F7' 'SNA' 'LAR']\n"
     ]
    }
   ],
   "source": [
    "#================= afficher toutes les anomalies ===================\n",
    "def afficher_tous_les_anomalies(data):\n",
    "        afficher_info(data)\n",
    "        anomalie1(data)\n",
    "        anomalie2(data)\n",
    "        anomalie3(data)\n",
    "        anomalie4(data)\n",
    "        anomalie5(data)\n",
    "        anomalie6(data)\n",
    "        \n",
    "\n",
    "afficher_tous_les_anomalies(data)"
   ]
  }
 ],
 "metadata": {
  "kernelspec": {
   "display_name": "Python 3",
   "language": "python",
   "name": "python3"
  },
  "language_info": {
   "codemirror_mode": {
    "name": "ipython",
    "version": 3
   },
   "file_extension": ".py",
   "mimetype": "text/x-python",
   "name": "python",
   "nbconvert_exporter": "python",
   "pygments_lexer": "ipython3",
   "version": "3.13.2"
  }
 },
 "nbformat": 4,
 "nbformat_minor": 5
}
