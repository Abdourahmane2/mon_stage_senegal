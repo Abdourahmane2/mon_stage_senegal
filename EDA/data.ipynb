{
 "cells": [
  {
   "cell_type": "markdown",
   "id": "45fc8420",
   "metadata": {},
   "source": [
    "Analyse exploiratoire de données "
   ]
  },
  {
   "cell_type": "code",
   "execution_count": null,
   "id": "f27772b7",
   "metadata": {},
   "outputs": [
    {
     "name": "stdout",
     "output_type": "stream",
     "text": [
      "1\n"
     ]
    }
   ],
   "source": [
    "print(1)\n",
    "\n",
    "\"\"\"git init\n",
    "git add .\n",
    "git commit -m \"Initial commit\"\n",
    "git branch -M main\n",
    "git remote add origin https://github.com/{your_username}/{repository_name}.git\n",
    "git push -u origin main\"\"\""
   ]
  }
 ],
 "metadata": {
  "kernelspec": {
   "display_name": ".venv",
   "language": "python",
   "name": "python3"
  },
  "language_info": {
   "codemirror_mode": {
    "name": "ipython",
    "version": 3
   },
   "file_extension": ".py",
   "mimetype": "text/x-python",
   "name": "python",
   "nbconvert_exporter": "python",
   "pygments_lexer": "ipython3",
   "version": "3.11.6"
  }
 },
 "nbformat": 4,
 "nbformat_minor": 5
}
